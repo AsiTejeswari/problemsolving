{
 "cells": [
  {
   "cell_type": "code",
   "execution_count": 10,
   "metadata": {},
   "outputs": [
    {
     "data": {
      "text/plain": [
       "0"
      ]
     },
     "execution_count": 10,
     "metadata": {},
     "output_type": "execute_result"
    }
   ],
   "source": [
    "#Function to check if two strings are anagrams\n",
    "# abc cba -> True\n",
    "# abc abc -> sorting\n",
    "def checkAnagrams(s1,s2):\n",
    "    if len(s1)!=len(s2):\n",
    "        return False\n",
    "    if sorted(s1)==sorted(s2):\n",
    "        return True\n",
    "    return False\n",
    "checkAnagrams('abc','bca')\n",
    "\n",
    "def  anagrams(s1,s2):\n",
    "    uc=[]\n",
    "    for i in s1:\n",
    "        if i not in s2:\n",
    "            uc.append(i)\n",
    "    for i in s2:\n",
    "        if i not in s1:\n",
    "            uc.append(i)\n",
    "    freqs1={}\n",
    "    freqs2={}\n",
    "    uniqs1=[]\n",
    "    uniqs2=[]\n",
    "    count=len(uc)\n",
    "    for i in s1:\n",
    "        if i not in uc and i not in uniqs1:\n",
    "            freqs1[i]=s1.count(i)\n",
    "            uniqs1.append(i)\n",
    "    for i in s2:\n",
    "        if i not in uc and i not in uniqs2:\n",
    "            freqs2[i]=s2.count(i)\n",
    "            uniqs2.append(i)\n",
    "    for key in freqs1.keys():\n",
    "        count+=abs(freqs1[key]-freqs2[key])\n",
    "    return count\n",
    "\n",
    "anagrams('abc','bca')\n",
    "        \n",
    "            \n",
    "    \n",
    "    "
   ]
  },
  {
   "cell_type": "code",
   "execution_count": 1,
   "metadata": {},
   "outputs": [
    {
     "name": "stdout",
     "output_type": "stream",
     "text": [
      "0 2 1 1 1 1 1 0 0 0 "
     ]
    }
   ],
   "source": [
    "# Digit Frequency\n",
    "\n",
    "# s=123abc456def\n",
    "# 0 1 1 1 1 1 1 0 0 0\n",
    "def uniquedata(l):\n",
    "    unique=[]\n",
    "    for n in l:\n",
    "        if n not in unique:\n",
    "            unique.append(n)\n",
    "    return unique \n",
    "\n",
    "def digitfrequency(s):\n",
    "    l=[]\n",
    "    for i in s:\n",
    "        if i.isdigit():\n",
    "            l.append(i)\n",
    "    unique=uniquedata(l)\n",
    "    \n",
    "    for i in range(0,10):\n",
    "        if str(i) not in unique:\n",
    "            print(0,end=' ')\n",
    "        else:\n",
    "            count=l.count(str(i))\n",
    "            print(count,end=' ')\n",
    "            \n",
    "digitfrequency('1231bc456def')"
   ]
  },
  {
   "cell_type": "code",
   "execution_count": 2,
   "metadata": {},
   "outputs": [
    {
     "name": "stdout",
     "output_type": "stream",
     "text": [
      "0 2 1 1 1 1 1 0 0 0 "
     ]
    }
   ],
   "source": [
    "s='1231bc456def'\n",
    "for i in range(0,10):\n",
    "    y=s.count(str(i))\n",
    "    print(y,end=' ')"
   ]
  },
  {
   "cell_type": "code",
   "execution_count": 6,
   "metadata": {},
   "outputs": [
    {
     "name": "stdout",
     "output_type": "stream",
     "text": [
      "1 10\n",
      "5\n"
     ]
    }
   ],
   "source": [
    "# Task 1\n",
    "\n",
    "l,b=map(int,input().split())\n",
    "sum=0\n",
    "c=0\n",
    "for i in range(l,b+1):\n",
    "    sum+=i\n",
    "    c+=1\n",
    "print(sum//c)\n",
    "    "
   ]
  },
  {
   "cell_type": "code",
   "execution_count": 1,
   "metadata": {},
   "outputs": [
    {
     "data": {
      "text/plain": [
       "'b'"
      ]
     },
     "execution_count": 1,
     "metadata": {},
     "output_type": "execute_result"
    }
   ],
   "source": [
    "# Task 2\n",
    "\n",
    "def klargest(s,k):\n",
    "    # constructuct the frequency for all unique charecters\n",
    "    \n",
    "    freq={}\n",
    "    for i in s:\n",
    "        if i not in freq.keys():\n",
    "            freq[i]=s.count(i)\n",
    "    #Exact uniquefrequencies  in descending order\n",
    "    values=sorted(freq.values(),reverse=True)\n",
    "    uniquevalues=list(set(values))\n",
    "    uniquevalues=sorted(uniquevalues,reverse=True)\n",
    "    # Identifing kth largest frequency\n",
    "    if k<=len(uniquevalues):\n",
    "        kvalues=uniquevalues[k-1]\n",
    "    else:\n",
    "        return -1\n",
    "   # get all elements with kth largest element \n",
    "    li=[]\n",
    "    for item in freq.items():\n",
    "        if item[1]==kvalues:\n",
    "            li.append(item[0])\n",
    "    #minmum of kth largest element\n",
    "    return min(li)\n",
    "klargest('aabcd',2)\n",
    "    \n",
    "            "
   ]
  },
  {
   "cell_type": "code",
   "execution_count": null,
   "metadata": {},
   "outputs": [],
   "source": []
  },
  {
   "cell_type": "code",
   "execution_count": null,
   "metadata": {},
   "outputs": [],
   "source": []
  },
  {
   "cell_type": "code",
   "execution_count": null,
   "metadata": {},
   "outputs": [],
   "source": []
  }
 ],
 "metadata": {
  "kernelspec": {
   "display_name": "Python 3",
   "language": "python",
   "name": "python3"
  },
  "language_info": {
   "codemirror_mode": {
    "name": "ipython",
    "version": 3
   },
   "file_extension": ".py",
   "mimetype": "text/x-python",
   "name": "python",
   "nbconvert_exporter": "python",
   "pygments_lexer": "ipython3",
   "version": "3.7.3"
  }
 },
 "nbformat": 4,
 "nbformat_minor": 2
}
