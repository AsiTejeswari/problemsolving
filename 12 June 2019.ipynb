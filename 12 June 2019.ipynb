{
 "cells": [
  {
   "cell_type": "markdown",
   "metadata": {},
   "source": [
    "### Problem Solving and Programming\n",
    "\n",
    "#### Date 12 June 2019\n",
    "\n",
    "#### Day objectives\n",
    "- String slicing \n",
    "- Functions in python\n",
    "- Basic Problems related to conditional statements using functions\n",
    "- Python Data Structures -Lists,Tuples and Dictionaries\n",
    "                 - Basic Operations on data structures\n",
    "                 - Applying Data Structures ti solve problems\n",
    "- Iteration in Python\n"
   ]
  },
  {
   "cell_type": "code",
   "execution_count": null,
   "metadata": {},
   "outputs": [],
   "source": []
  },
  {
   "cell_type": "markdown",
   "metadata": {},
   "source": [
    "### String slicing"
   ]
  },
  {
   "cell_type": "code",
   "execution_count": null,
   "metadata": {},
   "outputs": [],
   "source": [
    "s1 = \"Python\"\n",
    "\n",
    "\n",
    "s1[0]            # accessing the first charecter in a string\n",
    "s1[len(s1)-1]    # accessing the last charecter in a string  \n",
    "s1[-1]           # accessing the last charecter in a string \n",
    "s1[-2]           # accessing the penultimate charecter of string\n",
    "s1[0:2]          #accessing the first two charecter in a string\n",
    "s1[-2:]          # accessing the last two charecter in a string\n",
    "s1[1:-1]         #accessing first and last charecter in a string\n",
    "s1[len(s1)//2]   # accessing the middle charecter in a string\n",
    "s1[-1::-1]       # reverse of a string\n",
    "s1[-1:-3:-1]     # last two charecters of the string\n",
    "s1[-len(s1)//2:len(s1)//2-2:-1]  # reverse the middle two charecters in an even leagth string\n",
    "\n",
    "s1[0:len(s1):2]        # accessing alternate charecters in a string s1[::2]  python-->pto\n",
    "s1[::-2]       # accessing reverse  alternate charecters in a string   python-->nhy\n"
   ]
  },
  {
   "cell_type": "markdown",
   "metadata": {},
   "source": [
    "### Functions"
   ]
  },
  {
   "cell_type": "code",
   "execution_count": null,
   "metadata": {},
   "outputs": [],
   "source": [
    "# function to reverse a string\n",
    "def reverseString(s):\n",
    "    return s[::-1]\n",
    "\n",
    "reverseString(\"python\")"
   ]
  },
  {
   "cell_type": "code",
   "execution_count": null,
   "metadata": {},
   "outputs": [],
   "source": [
    "# function to check if a string is a palindrom\n",
    "def palindrom(s):\n",
    "    if s==s[::-1]:\n",
    "        return True\n",
    "    else:\n",
    "        return False\n",
    "palindrom(\"madam\")\n",
    "    "
   ]
  },
  {
   "cell_type": "code",
   "execution_count": null,
   "metadata": {},
   "outputs": [],
   "source": [
    "#function to check the given year is leapyear or not\n",
    "def leapyear(year):\n",
    "    if year%400==0 or (year%100!=0 and year%4==0):\n",
    "        return True\n",
    "    else:\n",
    "        return False\n",
    "leapyear(2020)\n",
    "    "
   ]
  },
  {
   "cell_type": "code",
   "execution_count": null,
   "metadata": {},
   "outputs": [],
   "source": [
    "\n",
    "def digits(n):\n",
    "    if len(str(n))!=0:\n",
    "        return len(str(n))\n",
    "    else:\n",
    "        return False\n",
    "digits(12345)"
   ]
  },
  {
   "cell_type": "code",
   "execution_count": null,
   "metadata": {},
   "outputs": [],
   "source": [
    "#function to identify the greatest of 4 numbers\n",
    "def largest(n1,n2,n3,n4):\n",
    "    if n1>n2 and n1>n3 and n1>n4:\n",
    "        return n1 \n",
    "    elif n2>n3 and n2>n4:\n",
    "        return n2 \n",
    "    elif n3>n4:\n",
    "        return n3 \n",
    "    else:\n",
    "        return n4 \n",
    "largest(1,2,3,4)\n",
    "            "
   ]
  },
  {
   "cell_type": "code",
   "execution_count": null,
   "metadata": {},
   "outputs": [],
   "source": []
  },
  {
   "cell_type": "markdown",
   "metadata": {},
   "source": [
    "### Iteration\n",
    "\n",
    "- for\n",
    "- while"
   ]
  },
  {
   "cell_type": "code",
   "execution_count": null,
   "metadata": {},
   "outputs": [],
   "source": [
    "# function to print n natural no\n",
    "\n",
    "\n",
    "def naturalno(n):\n",
    "    for i in range(1,n+1):\n",
    "        print (i,end=\" \")\n",
    "    return\n",
    "naturalno(12)"
   ]
  },
  {
   "cell_type": "code",
   "execution_count": null,
   "metadata": {},
   "outputs": [],
   "source": [
    "# function to print n natural no useing while loop\n",
    "def naturalno(n):\n",
    "    i=1\n",
    "    while i<=n:\n",
    "        print(i,end = \" \")\n",
    "        i+=1\n",
    "    return\n",
    "naturalno(10)"
   ]
  },
  {
   "cell_type": "code",
   "execution_count": null,
   "metadata": {},
   "outputs": [],
   "source": [
    "# function to print all  numbers  divisible by 6 \n",
    "# and not a factor of 10 in a given range(lb,ub) inlcusive\n",
    "def divisible(l,u):\n",
    "    for i in range(l,u):\n",
    "        if i%6==0 and i%10!=0:\n",
    "            print(i)\n",
    "    return \n",
    "divisible(10,100)\n"
   ]
  },
  {
   "cell_type": "code",
   "execution_count": null,
   "metadata": {},
   "outputs": [],
   "source": [
    "def avgcubeseven(l,b):\n",
    "    sum=0\n",
    "    c=0\n",
    "    avg=0\n",
    "    for i in range(l,b+1):\n",
    "        if i%2==0:\n",
    "            sum += i**3\n",
    "            c=c+1\n",
    "        avg=sum/c\n",
    "    print(avg)\n",
    "    return\n",
    "\n",
    "avgcubeseven(50,75)\n",
    "\n",
    "    \n",
    "    \n"
   ]
  },
  {
   "cell_type": "code",
   "execution_count": null,
   "metadata": {},
   "outputs": [],
   "source": [
    "# factor list of a given no\n",
    "def factorlist(n):\n",
    "    for i in range(1,n+1):\n",
    "        if n%i==0:\n",
    "            print(i)\n",
    "    return\n",
    "factorlist(12)"
   ]
  },
  {
   "cell_type": "code",
   "execution_count": null,
   "metadata": {},
   "outputs": [],
   "source": [
    "# function to check if a given no is prime \n",
    "def prime(n):\n",
    "    c=0\n",
    "    for i in range(1,n+1):\n",
    "        if n%i==0:\n",
    "            c+=1\n",
    "    if c==2:\n",
    "        return True\n",
    "    else:\n",
    "        return False\n",
    "    return\n",
    "        \n",
    "prime(7)\n",
    "            \n"
   ]
  },
  {
   "cell_type": "code",
   "execution_count": null,
   "metadata": {},
   "outputs": [],
   "source": [
    "# function to calculate the average first N prime numbers\n",
    "def avgprime(n,x):\n",
    "    sum=0\n",
    "    s=0\n",
    "    avg=0\n",
    "    for i in range(1,x+1):\n",
    "        if prime(i):\n",
    "            s=s+1\n",
    "            sum=sum+i\n",
    "            if s==n:\n",
    "                return sum/s\n",
    "    return \n",
    "\n",
    "avgprime(10,300)"
   ]
  },
  {
   "cell_type": "code",
   "execution_count": null,
   "metadata": {},
   "outputs": [],
   "source": [
    "# funcion to calculate factoral of a given no\n",
    "def factorial(n):\n",
    "    mul=1\n",
    "    for i in range(1,n+1):\n",
    "        mul=mul*i\n",
    "    print(mul)\n",
    "    return\n",
    "factorial(5)"
   ]
  },
  {
   "cell_type": "code",
   "execution_count": null,
   "metadata": {},
   "outputs": [],
   "source": [
    "# function to generate perfect no\n",
    "\n",
    "def perfectno(n):\n",
    "    sum=0\n",
    "    for i in range(1,n):\n",
    "        if n%i==0:\n",
    "            sum=sum+i\n",
    "    if n==sum:\n",
    "        return True\n",
    "    else:\n",
    "        return False\n",
    "    return\n",
    "perfectno(6)\n",
    "        \n",
    "            "
   ]
  },
  {
   "cell_type": "code",
   "execution_count": null,
   "metadata": {},
   "outputs": [],
   "source": [
    "# function to generate all perfect no in the given range\n",
    "def generateperfect(l,u):\n",
    "    for i in range(l,u+1):\n",
    "        if perfectno(i):\n",
    "            print(i)\n",
    "    return\n",
    "generateperfect(1,28)\n"
   ]
  },
  {
   "cell_type": "code",
   "execution_count": null,
   "metadata": {},
   "outputs": [],
   "source": [
    "# function to generate average  of all factorials in a given range\n",
    "def factorialrange(l,u):\n",
    "    sum=0\n",
    "    avg=0\n",
    "    for n in range(l,u):\n",
    "        if factorial(n):\n",
    "            print(n)\n",
    "    return\n",
    "    \n",
    "factorialrange(1,5)\n",
    "\n",
    "            \n"
   ]
  },
  {
   "cell_type": "code",
   "execution_count": null,
   "metadata": {},
   "outputs": [],
   "source": [
    "# factorial avg\n",
    "def factavg(l,u):\n",
    "    fact=1\n",
    "    sum=0\n",
    "    for i in range(l,u):\n",
    "        fact=fact*i\n",
    "        sum=sum+fact\n",
    "        print (sum)\n",
    "    return sum/(u-l)\n",
    "factavg(1,4)\n",
    "    "
   ]
  },
  {
   "cell_type": "code",
   "execution_count": null,
   "metadata": {},
   "outputs": [],
   "source": [
    "# alternate values \n",
    "def alternatevalues(start,end):\n",
    "    for i in range(start,end+1,2):\n",
    "        print(i)\n",
    "    return\n",
    "alternatevalues(10,20)"
   ]
  },
  {
   "cell_type": "code",
   "execution_count": null,
   "metadata": {},
   "outputs": [],
   "source": [
    "# function to print reverse of given range \n",
    "def reverse(start,end):\n",
    "    for i in range(end,start,-2):\n",
    "        print(i)\n",
    "    return\n",
    "reverse(10,25)"
   ]
  },
  {
   "cell_type": "code",
   "execution_count": null,
   "metadata": {},
   "outputs": [],
   "source": [
    "#  function to calulate sum of numbers in a range\n",
    "def sum(start,end):\n",
    "    z=0\n",
    "    for i in range(start,end):\n",
    "        if i!=0:\n",
    "            z=z+i\n",
    "    return z\n",
    "sum(1,6)\n"
   ]
  },
  {
   "cell_type": "code",
   "execution_count": null,
   "metadata": {},
   "outputs": [],
   "source": [
    "# reverse odd no in given range\n",
    "def odd(l,u):\n",
    "    for i in range(u,l-1,-1):\n",
    "        if i%2!=0:\n",
    "            print(i)\n",
    "    return\n",
    "odd(1,10)"
   ]
  },
  {
   "cell_type": "code",
   "execution_count": null,
   "metadata": {},
   "outputs": [],
   "source": [
    "# function to calculate the average of a given range\n",
    "def avg(l,u):\n",
    "    y=0\n",
    "    c=0\n",
    "    for i in range(l,u):\n",
    "        y=y+i\n",
    "    return y/(u-l)\n",
    "avg(1,6)\n",
    "            "
   ]
  },
  {
   "cell_type": "code",
   "execution_count": null,
   "metadata": {},
   "outputs": [],
   "source": [
    "# function to generate  N odd armstrong  numbers\n",
    "def armstrong(n,x):\n",
    "    for i in range(1,x+1):\n",
    "        y=len(str(i))\n",
    "        \n",
    "    \n"
   ]
  },
  {
   "cell_type": "code",
   "execution_count": 1,
   "metadata": {},
   "outputs": [
    {
     "data": {
      "text/plain": [
       "2016"
      ]
     },
     "execution_count": 1,
     "metadata": {},
     "output_type": "execute_result"
    }
   ],
   "source": [
    "# function to generate all leap years in a given time period\n",
    "def isleapyear(year):\n",
    "    if year%400==0 or (year%100!=0 and year%4==0):\n",
    "        return True\n",
    "    else:\n",
    "        return False\n",
    "       \n",
    "isleapyear(2020)\n",
    "    \n",
    "def leapyears(l,u):\n",
    "    for year in range(l,u+1):\n",
    "        if isleapyear(year):\n",
    "            return year\n",
    "leapyears(2015,2020)\n",
    "            "
   ]
  },
  {
   "cell_type": "code",
   "execution_count": 2,
   "metadata": {},
   "outputs": [
    {
     "data": {
      "text/plain": [
       "731"
      ]
     },
     "execution_count": 2,
     "metadata": {},
     "output_type": "execute_result"
    }
   ],
   "source": [
    "# calculate the no of days in a given period\n",
    "def noofdays(l,u):\n",
    "    c=0\n",
    "\n",
    "    y=0\n",
    "    for year in range(l,u+1):\n",
    "        if isleapyear(year):\n",
    "            c=c+1\n",
    "        else:\n",
    "            y=y+1\n",
    "        \n",
    "    return (366*c)+(365*y)\n",
    "noofdays(2015,2016)"
   ]
  },
  {
   "cell_type": "code",
   "execution_count": 16,
   "metadata": {},
   "outputs": [
    {
     "data": {
      "text/plain": [
       "1464"
      ]
     },
     "execution_count": 16,
     "metadata": {},
     "output_type": "execute_result"
    }
   ],
   "source": [
    "# calculate the no of hours for a given time period\n",
    "def noofdays(startyear,endyear):\n",
    "    sum=0\n",
    "    for year in range(startyear,endyear+1):\n",
    "        if isleapyear(year):\n",
    "            sum+=366\n",
    "        else:\n",
    "            sum+=365\n",
    "   \n",
    "    return sum\n",
    "#noofdays(2018,2019)\n",
    "\n",
    "def numberofdaysmonth(month,year):\n",
    "    if month ==2:\n",
    "        if isleapyear(year):\n",
    "            return 29\n",
    "        return 28\n",
    "    elif (month<=7 and month %2!=0) or (month >=8 and month%2==0):\n",
    "        return 31\n",
    "    else:\n",
    "        return 30\n",
    "#numberofdaysmonth(6,2019)\n",
    "def daysinstartyear(startmonth,startyear):\n",
    "    days=0\n",
    "    for month in range(startmonth,13):\n",
    "        days += numberofdaysmonth(month,startyear)\n",
    "    return days\n",
    "#daysinstartyear(6,2019)\n",
    "def daysinendyear(endmonth,endyear):\n",
    "    days=0\n",
    "    for month in range(1,endmonth+1):\n",
    "        days+=numberofdaysmonth(month,endyear)\n",
    "    return days\n",
    "#daysinendyear(6,2019)\n",
    "def numberofhours(startmonth,startyear,endmonth,endyear):\n",
    "    days=0\n",
    "    if startyear!=endyear:\n",
    "        days=0\n",
    "        days+=daysinstartyear(startmonth,startyear)\n",
    "        days+=daysinendyear(endmonth,endyear)\n",
    "        if endyear-startyear==2:\n",
    "            days+=noofdays(l+1,l+1)\n",
    "        elif endyear-startyear > 2:\n",
    "            days+=noofdays(startyear+1,endyear-1)\n",
    "    else:\n",
    "        for month in range(startmonth,endmonth+1):\n",
    "            days+=numberofdaysmonth(month,startyear)\n",
    "    return 24*days\n",
    "\n",
    "numberofhours(6,2018,7,2018)"
   ]
  },
  {
   "cell_type": "code",
   "execution_count": null,
   "metadata": {},
   "outputs": [],
   "source": []
  }
 ],
 "metadata": {
  "kernelspec": {
   "display_name": "Python 3",
   "language": "python",
   "name": "python3"
  },
  "language_info": {
   "codemirror_mode": {
    "name": "ipython",
    "version": 3
   },
   "file_extension": ".py",
   "mimetype": "text/x-python",
   "name": "python",
   "nbconvert_exporter": "python",
   "pygments_lexer": "ipython3",
   "version": "3.7.3"
  }
 },
 "nbformat": 4,
 "nbformat_minor": 2
}
