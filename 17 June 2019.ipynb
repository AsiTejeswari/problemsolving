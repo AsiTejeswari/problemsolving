{
 "cells": [
  {
   "cell_type": "code",
   "execution_count": null,
   "metadata": {},
   "outputs": [],
   "source": [
    "# function to toggle string charecters\n",
    "def togglestring(s):\n",
    "    s=list(s)\n",
    "    t=\"\"  #[]\n",
    "    for c in s:\n",
    "        if c.islower():\n",
    "            t+=c.upper()  #t.append(c.upper())\n",
    "        else:\n",
    "            t+=c.lower()  #t.append(c.lower())\n",
    "    return t #\"\".join(t)\n",
    "togglestring(\"aBc\")\n",
    "\n"
   ]
  },
  {
   "cell_type": "code",
   "execution_count": null,
   "metadata": {},
   "outputs": [],
   "source": [
    "# two strings\n",
    "def twostring(s1,s2):\n",
    "    s3=sorted(s1)\n",
    "    s4=sorted(s2)\n",
    "    if s3==s4:\n",
    "        print(\"yes\")\n",
    "    else:\n",
    "        print(\"no\")\n",
    "s1=input()\n",
    "s2=input()\n",
    "\n",
    "twostring(s1,s2)"
   ]
  },
  {
   "cell_type": "code",
   "execution_count": null,
   "metadata": {},
   "outputs": [],
   "source": [
    "#Charsum\n",
    "s=input(\" \")\n",
    "def alpha(s):\n",
    "    sum=0\n",
    "    for i in range(0,len(s)):\n",
    "        if s[i]>=chr(97) and s[i]<=chr(122):\n",
    "            sum=sum+(ord(s[i])-96)\n",
    "    print(sum)\n",
    "alpha(s)"
   ]
  },
  {
   "cell_type": "code",
   "execution_count": null,
   "metadata": {},
   "outputs": [],
   "source": [
    "s='aBc'\n",
    "s=list(s)\n",
    "\"\".join(s)"
   ]
  },
  {
   "cell_type": "code",
   "execution_count": null,
   "metadata": {},
   "outputs": [],
   "source": [
    "# duration\n",
    "\n",
    "#Input:start time, end time(HH MM)\n",
    "    #{00, 23} -HH \n",
    "    #{00, 59} -MM\n",
    "#Output:time difference in HH MM\n",
    "    \n",
    "s=\"1 44 2 14\"    \n",
    "def minutesdifference(s):\n",
    "    s=s.split()\n",
    "    sh=int(s[0])\n",
    "    sm=int(s[1])\n",
    "    eh=int(s[2])\n",
    "    em=int(s[3])\n",
    "    startminutes=(sh*60)+sm\n",
    "    endminutes=(eh*60)+em\n",
    "    return endminutes-startminutes\n",
    "def outputtimeformate(minutes):\n",
    "    hh=minutes//60\n",
    "    mm=minutes%60\n",
    "    print(hh, mm)\n",
    "    return \n",
    "minutes=minutesdifference(s)\n",
    "outputtimeformate(minutes)\n",
    "\n",
    "    \n"
   ]
  },
  {
   "cell_type": "code",
   "execution_count": null,
   "metadata": {},
   "outputs": [],
   "source": [
    "# playwith numbers\n",
    "n = int(input())\n",
    "arr = input()   \n",
    "x = list(map(int,arr.split(' ')))\n",
    "q=int(input())\n",
    "l=int(input())\n",
    "r=int(input())\n",
    "def playwithno(n,q):\n",
    "    for i in q:\n",
    "        for q in range(l,r+1):\n",
    "            \n",
    "            \n",
    "        \n",
    "        \n",
    "    \n",
    "    "
   ]
  },
  {
   "cell_type": "code",
   "execution_count": 26,
   "metadata": {},
   "outputs": [
    {
     "name": "stdout",
     "output_type": "stream",
     "text": [
      "enter no10\n",
      "Enter range of no100000\n",
      "1 3 5 7 9 153 371 407 92727 "
     ]
    }
   ],
   "source": [
    "# oddarmstrong no in given range\n",
    "n=int(input(\"enter no\"))\n",
    "num = int(input(\"Enter range of no\"))\n",
    "def armstrong(num):\n",
    "    l=len(str(num))\n",
    "\n",
    "    sum = 0\n",
    "    temp = num\n",
    "    while temp > 0:\n",
    "       digit = temp % 10\n",
    "       sum += digit ** l\n",
    "       temp //= 10\n",
    "    if num == sum:\n",
    "        return True\n",
    "                  \n",
    "    else:\n",
    "        return False\n",
    "    \n",
    "#armstrong(num)\n",
    "def rangearmstrong(n,num):\n",
    "    x=0\n",
    "    for i in range(1,num+1):\n",
    "        if armstrong(i):\n",
    "            if i%2!=0:\n",
    "                x+=1\n",
    "                print(i,end=\" \")\n",
    "\n",
    "        if x==n:\n",
    "            return\n",
    "rangearmstrong(n,num)\n",
    "\n",
    "                        "
   ]
  },
  {
   "cell_type": "code",
   "execution_count": 25,
   "metadata": {},
   "outputs": [
    {
     "name": "stdout",
     "output_type": "stream",
     "text": [
      "2\n",
      "5\n"
     ]
    },
    {
     "data": {
      "text/plain": [
       "True"
      ]
     },
     "execution_count": 25,
     "metadata": {},
     "output_type": "execute_result"
    }
   ],
   "source": [
    "# primefactors\n",
    "def prime(n):\n",
    "    c=0\n",
    "    for i in range(1,n+1):\n",
    "        if n%i==0:\n",
    "            c=c+1\n",
    "    if c==2:\n",
    "        return True\n",
    "    else:\n",
    "        return False  \n",
    "\n",
    "def primefactors(m):\n",
    "    x=0\n",
    "    for j in range(1,m+1):\n",
    "        if m%j==0:\n",
    "            if prime(j):\n",
    "                print(j)\n",
    "                x=x+1\n",
    "    if x==2:\n",
    "        return True\n",
    "    else:\n",
    "        return False\n",
    "    return\n",
    "primefactors(10)\n",
    "\n"
   ]
  },
  {
   "cell_type": "code",
   "execution_count": 19,
   "metadata": {},
   "outputs": [
    {
     "name": "stdout",
     "output_type": "stream",
     "text": [
      " 123@cde\n",
      "3\n",
      "3\n"
     ]
    }
   ],
   "source": [
    "#task 2\n",
    "\n",
    "def count(n):\n",
    "    c1=0\n",
    "    c2=0\n",
    "    for i in n:\n",
    "        if i.isdigit():\n",
    "            c1+=1\n",
    "        if i.isalpha():\n",
    "            c2+=1\n",
    "    print(c1)\n",
    "    print(c2)\n",
    "n=(input(\" \"))\n",
    "count(n)"
   ]
  },
  {
   "cell_type": "code",
   "execution_count": 55,
   "metadata": {},
   "outputs": [
    {
     "name": "stdout",
     "output_type": "stream",
     "text": [
      "[0, 1, 2, 1]\n",
      "3\n"
     ]
    }
   ],
   "source": [
    "#task 3\n",
    "def task(n):\n",
    "    l=[]\n",
    "    k=[]\n",
    "    for i in range(1,n):\n",
    "        l.append(n//i)\n",
    "        k.append(n%i)\n",
    "    #print(l)\n",
    "    print(k)\n",
    "    print(k.index(max(k))+1)\n",
    "    #print(l[k.index(max(k))])\n",
    "    return\n",
    "task(5)\n",
    "\n",
    "               "
   ]
  },
  {
   "cell_type": "code",
   "execution_count": null,
   "metadata": {},
   "outputs": [],
   "source": [
    "# perfect no\n"
   ]
  }
 ],
 "metadata": {
  "kernelspec": {
   "display_name": "Python 3",
   "language": "python",
   "name": "python3"
  },
  "language_info": {
   "codemirror_mode": {
    "name": "ipython",
    "version": 3
   },
   "file_extension": ".py",
   "mimetype": "text/x-python",
   "name": "python",
   "nbconvert_exporter": "python",
   "pygments_lexer": "ipython3",
   "version": "3.7.3"
  }
 },
 "nbformat": 4,
 "nbformat_minor": 2
}
