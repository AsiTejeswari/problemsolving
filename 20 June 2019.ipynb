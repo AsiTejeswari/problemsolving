{
 "cells": [
  {
   "cell_type": "markdown",
   "metadata": {},
   "source": [
    "### Day Objectives\n",
    "\n",
    "- Regular Expressions\n",
    "        - Constructing Regular Expressions for various use cases\n",
    "        - Regular Expressions Module and related in python\n",
    "        - Improving the Contacts application with name and phone number various \n",
    "- File Handling\n",
    "        - Text files\n",
    "        - Upgrading the contacts Application to store contact "
   ]
  },
  {
   "cell_type": "code",
   "execution_count": null,
   "metadata": {},
   "outputs": [],
   "source": []
  },
  {
   "cell_type": "markdown",
   "metadata": {},
   "source": [
    "#### Regular Expressions\n",
    "\n",
    "- Pattern Matching\n",
    "- Symbilic Notation of a pattern\n",
    "    - Pattern : Format which repeates\n",
    "    - Pattern(RE) reperesents The set of all values\n",
    "- [0-9] -> any digit\n",
    "\n",
    "- [a-z] ->any lower case alphabet\n",
    "\n",
    "- [2468]->all single digit multiples of 2\n",
    "\n",
    "- ^[0-9]{1}$->only single digit numbers\n",
    "\n",
    "- ^[0-9]{3}$ -> only three digit numbers\n",
    "\n",
    "- [0-9]*0$ ->all multiples of 10\n",
    "\n",
    "- ^[9876]{1}[0-9]{9}$ or [+[9][1]][6-9][0-9]{9}$|^[0][6-9][0-9]{9}$ ->valid indian phone no\n",
    "\n",
    "- ^([1-9][0-9]*[05])|^([5])$  ->all multiples of 5\n",
    "\n",
    "- ^[1-9][0-9]{9}$ -> all 10 digit numbers\n",
    "\n",
    "- [w][o][r][d] or (word)->searching for a word\n",
    "\n",
    "- [0-9a-z][0-9a-z_.]{4,13}[0-9a-z][@][0-9a-z]{3,18}[.][a-z]{2,4}$ ->valid email id(username@domine.extension)\n",
    "        - username\n",
    "            - leanth of username :[6,15]\n",
    "            - no special charecters other than (_and .)\n",
    "            - shouldn't beging and end with (_ and .)\n",
    "            - charecters set : all digits and lower case alphabet\n",
    "        - domine\n",
    "            - length of domine : [3,18]\n",
    "            - No special charecters\n",
    "            - charecter set : all digits and lower case alphabet\n",
    "        - extension\n",
    "            - length of extension : [2,4]\n",
    "            - no special charecters\n",
    "            - charecter set : lower case alphabet\n",
    "->^([0-9a-z][0-9a-z_.]{4,13}[0-9a-z][@][0-9a-z]{3,18}[.][a-z]{2,4})|[.][a-z]{2,4}$\n",
    "\n",
    "    ex:tejareddy@joy.edu.in\n",
    "    \n",
    "- [a]...[z] -> any string of leangth 5 that starts with 'a' to 'z'\n",
    "- [a].*[z] -> any string of any leangth  that startd with 'a' to 'z'\n"
   ]
  },
  {
   "cell_type": "code",
   "execution_count": 7,
   "metadata": {},
   "outputs": [
    {
     "name": "stdout",
     "output_type": "stream",
     "text": [
      "102569\n",
      "illigal ISBN\n"
     ]
    }
   ],
   "source": [
    "n=int(input())\n",
    "sum=0\n",
    "if (len(str(n))==10):\n",
    "    for i in range(len(str(n)),0,-1):\n",
    "        if(n!=0):\n",
    "            sum=sum+((n%10)*i)\n",
    "            n=n//10\n",
    "    if(sum%11==0):\n",
    "        print(\"Legal ISBN\")\n",
    "    else:\n",
    "        print(\"illigal ISBN\")\n",
    "else:\n",
    "    print(\"illigal ISBN\")\n",
    "    \n",
    "    "
   ]
  },
  {
   "cell_type": "code",
   "execution_count": 68,
   "metadata": {},
   "outputs": [],
   "source": [
    "\n"
   ]
  },
  {
   "cell_type": "code",
   "execution_count": null,
   "metadata": {},
   "outputs": [],
   "source": []
  },
  {
   "cell_type": "code",
   "execution_count": 26,
   "metadata": {},
   "outputs": [
    {
     "data": {
      "text/plain": [
       "True"
      ]
     },
     "execution_count": 26,
     "metadata": {},
     "output_type": "execute_result"
    }
   ],
   "source": [
    "#function to validate a phone no\n",
    "\n",
    "import re\n",
    "\n",
    "def phonenumbervalidator(number):\n",
    "    pattern='^[6-9]{1}[0-9]{9}$|[+[9][1]][6-9][0-9]{9}$|^[0][6-9][0-9]{9}$'\n",
    "    if re.match(pattern,str(number)):\n",
    "        return True\n",
    "    else:\n",
    "        return False\n",
    "phonenumbervalidator(7093367733)\n",
    "def emailvalidator(email):\n",
    "    pattern='[0-9a-z][0-9a-z_.]{4,13}[0-9a-z][@][0-9a-z]{3,18}[.][a-z]{2,4}$'\n",
    "    if re.match(pattern,email):\n",
    "        return True\n",
    "    else:\n",
    "        return False\n",
    "emailvalidator(\"tejareddyasi987@gmail.com\")\n",
    "    "
   ]
  },
  {
   "cell_type": "code",
   "execution_count": 25,
   "metadata": {},
   "outputs": [
    {
     "name": "stdout",
     "output_type": "stream",
     "text": [
      "Tej added successfully\n"
     ]
    }
   ],
   "source": [
    "#contacts={\"name1\":[9876543210,'name1@domine.ext']}\n",
    "contacts={}\n",
    "\n",
    "def addcontact(name,phone,email):\n",
    "    #verify that the contact doesnot already exists\n",
    "    if name in contacts:\n",
    "        print(name, \"already exists.\")\n",
    "    else:\n",
    "        if not phonenumbervalidator(phone):\n",
    "            print(\"Invalid phone number\")\n",
    "            return\n",
    "        if not emailvalidator(email):\n",
    "            print(\"Invalide email id\")\n",
    "            return\n",
    "        newcontacts=[]\n",
    "        newcontacts.append(phone)\n",
    "        newcontacts.append(email)\n",
    "        contacts[name]=newcontacts\n",
    "        print(name,\"added successfully\")\n",
    "    return\n",
    "addcontact(\"Tej\",7093367733,\"tejareddyasi987@gmail.com\")\n"
   ]
  },
  {
   "cell_type": "code",
   "execution_count": 30,
   "metadata": {},
   "outputs": [
    {
     "name": "stdout",
     "output_type": "stream",
     "text": [
      "Tej\n",
      "phone : 7093367733\n",
      "email : tejareddyasi987@gmail.com\n"
     ]
    }
   ],
   "source": [
    "def searchcontacts(name):\n",
    "    if name in contacts:\n",
    "        print(name)\n",
    "        print(\"phone :\",contacts[name][0])\n",
    "        print(\"email :\",contacts[name][1])\n",
    "    else:\n",
    "        print(\"%s does not exist\" % name)\n",
    "    return\n",
    "searchcontacts(\"Tej\")\n",
    "    "
   ]
  },
  {
   "cell_type": "code",
   "execution_count": 41,
   "metadata": {},
   "outputs": [
    {
     "name": "stdout",
     "output_type": "stream",
     "text": [
      "2 contacts added successfully\n",
      "{'Tej': [7093367733, 'tejareddyasi987@gmail.com'], 'Priya': [9703193853, 'nityaasi987@gmail.com'], 'Teja': [9704333740, 'priyareddyasi987@gamil.com']}\n"
     ]
    }
   ],
   "source": [
    "def importcontacts(newcontacts):\n",
    "    contacts.update(newcontacts)\n",
    "    print(len(newcontacts.keys()),\"contacts added successfully\")\n",
    "    print(contacts)\n",
    "    return\n",
    "\n",
    "newcontacts={\"Priya\":[9703193853 ,\"nityaasi987@gmail.com\"],\"Teja\":[9704333740 ,\"priyareddyasi987@gamil.com\"]}\n",
    "importcontacts(newcontacts)\n",
    "\n"
   ]
  },
  {
   "cell_type": "code",
   "execution_count": 42,
   "metadata": {},
   "outputs": [
    {
     "data": {
      "text/plain": [
       "{'Tej': [7093367733, 'tejareddyasi987@gmail.com'],\n",
       " 'Priya': [9703193853, 'nityaasi987@gmail.com'],\n",
       " 'Teja': [9704333740, 'priyareddyasi987@gamil.com']}"
      ]
     },
     "execution_count": 42,
     "metadata": {},
     "output_type": "execute_result"
    }
   ],
   "source": [
    "contacts"
   ]
  },
  {
   "cell_type": "code",
   "execution_count": 44,
   "metadata": {},
   "outputs": [
    {
     "name": "stdout",
     "output_type": "stream",
     "text": [
      "Tej \n",
      " phone : 7093367733 \n",
      " email : tejareddyasi987@gmail.com\n",
      "Priya \n",
      " phone : 9703193853 \n",
      " email : nityaasi987@gmail.com\n",
      "Teja \n",
      " phone : 9704333740 \n",
      " email : priyareddyasi987@gamil.com\n"
     ]
    }
   ],
   "source": [
    "def listofcontacts(contacts):\n",
    "    for contact,info in contacts.items():\n",
    "        print(contact, \"\\n\" ,\"phone :\",info[0], \"\\n\",\"email :\",info[1])\n",
    "listofcontacts(contacts)\n",
    "\n",
    "    "
   ]
  },
  {
   "cell_type": "code",
   "execution_count": null,
   "metadata": {},
   "outputs": [],
   "source": [
    "#modifing contact\n",
    "def editcontact(name,phone,email):\n",
    "    "
   ]
  },
  {
   "cell_type": "code",
   "execution_count": null,
   "metadata": {},
   "outputs": [],
   "source": []
  },
  {
   "cell_type": "markdown",
   "metadata": {},
   "source": [
    "### File Handling in Python\n",
    "\n",
    "\n",
    "File -> Document containg information residing on the permenent storage\n",
    "\n",
    "Types-> Text, PDF , CSV etc\n",
    "\n",
    "\n",
    "File I/O -> Channelling I/O data to files\n",
    "\n",
    "Default I/O channels -> keyboard / Screen\n",
    "\n",
    "Change I/O channel to files for Reading and Writting into files\n",
    "\n",
    "Read to a file - Input from file\n",
    "\n",
    "Write to a file - Output to a file\n",
    "\n",
    "Read / write  file - open(filename,mode)\n",
    "\n",
    "\n",
    "\n",
    "\n"
   ]
  },
  {
   "cell_type": "code",
   "execution_count": 58,
   "metadata": {},
   "outputs": [
    {
     "name": "stdout",
     "output_type": "stream",
     "text": [
      "Line1\n",
      "Line2\n",
      "Line3\n"
     ]
    }
   ],
   "source": [
    "#Function to read a file\n",
    "\n",
    "def readFile(filename):\n",
    "    f=open(filename, 'r')\n",
    "    filedata=f.read()\n",
    "    f.close()\n",
    "    return filedata\n",
    "filename= 'DataFiles/data.txt'\n",
    "for line in readFile(filename).split('\\n'):\n",
    "    print(line)\n",
    "\n",
    "\n"
   ]
  },
  {
   "cell_type": "code",
   "execution_count": 63,
   "metadata": {},
   "outputs": [
    {
     "name": "stdout",
     "output_type": "stream",
     "text": [
      "Line1\n",
      "Line2\n",
      "Line3"
     ]
    }
   ],
   "source": [
    "def printFileDataLines(filename):\n",
    "    with open(filename,'r') as f:\n",
    "        for line in f:\n",
    "            print(line, end='')\n",
    "    return\n",
    "printFileDataLines(filename)"
   ]
  },
  {
   "cell_type": "code",
   "execution_count": 64,
   "metadata": {},
   "outputs": [],
   "source": [
    "# Function to write data into a file\n",
    "\n",
    "def writeIntoFile(filename,filedata):\n",
    "    with open(filename, 'w') as f:\n",
    "        f.write(filedata)\n",
    "    return\n",
    "\n",
    "\n",
    "filename='dataFiles/data.txt'\n",
    "\n",
    "writeIntoFile(filename,\"new data\")\n",
    "\n"
   ]
  },
  {
   "cell_type": "code",
   "execution_count": 67,
   "metadata": {},
   "outputs": [],
   "source": [
    "# Function to append data to a file\n",
    "\n",
    "def appendDatatoFile(filename,filedata):\n",
    "    with open(filename, 'a') as f:\n",
    "        f.write(filedata)\n",
    "    return\n",
    "filedata=\"original \\ dublicate\"\n",
    "appendDatatoFile(filename,filedata)"
   ]
  },
  {
   "cell_type": "code",
   "execution_count": null,
   "metadata": {},
   "outputs": [],
   "source": []
  }
 ],
 "metadata": {
  "kernelspec": {
   "display_name": "Python 3",
   "language": "python",
   "name": "python3"
  }
 },
 "nbformat": 4,
 "nbformat_minor": 2
}
