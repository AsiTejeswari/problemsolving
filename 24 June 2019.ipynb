{
 "cells": [
  {
   "cell_type": "code",
   "execution_count": null,
   "metadata": {},
   "outputs": [],
   "source": [
    "#find and replace applications\n",
    "    # count the total number of occurances of words\n",
    "    # if word is existing \n",
    "    # replace all occurances of a word with another word\n",
    "# Marks Analysis Applications\n",
    "    #Generate marks file for n students - random function\n",
    "    # Inpur:Marks Text file -each line contains marks of one student\n",
    "    # generates a report  wth the following information\n",
    "        # Class Average\n",
    "        # % of students passed\n",
    "        # % of students failed\n",
    "        # % of students with distinction\n",
    "        # Highest Mark Frequency\n",
    "        # lowest Mark Frequency\n",
    "        "
   ]
  },
  {
   "cell_type": "code",
   "execution_count": 76,
   "metadata": {},
   "outputs": [],
   "source": [
    "# function to generate marks data for n students\n",
    "\n",
    "from random import randint\n",
    "\n",
    "\n",
    "def generateMarks(n,lb,ub):\n",
    "    with open('DataFiles/marks.txt','w') as f:\n",
    "        for i in range(0,n):\n",
    "            r=randint(lb,ub)\n",
    "            f.write(str(r)+'\\n')\n",
    "    return\n",
    "generateMarks(100,0,100)\n",
    "\n",
    "    \n",
    "    "
   ]
  },
  {
   "cell_type": "code",
   "execution_count": 77,
   "metadata": {},
   "outputs": [
    {
     "name": "stdout",
     "output_type": "stream",
     "text": [
      "['29', '79', '78', '92', '30', '9', '30', '86', '9', '90', '64', '2', '73', '49', '23', '73', '10', '84', '31', '30', '76', '13', '22', '7', '54', '50', '85', '8', '36', '49', '49', '22', '99', '1', '34', '80', '15', '87', '4', '78', '76', '4', '40', '0', '92', '18', '20', '18', '32', '1', '54', '17', '29', '29', '40', '25', '43', '94', '82', '75', '42', '19', '0', '34', '62', '3', '11', '4', '18', '99', '79', '22', '70', '59', '95', '49', '80', '22', '90', '68', '9', '45', '43', '85', '39', '55', '84', '36', '29', '84', '9', '57', '51', '81', '87', '9', '27', '51', '65', '69']\n",
      "4570\n"
     ]
    },
    {
     "data": {
      "text/plain": [
       "45"
      ]
     },
     "execution_count": 77,
     "metadata": {},
     "output_type": "execute_result"
    }
   ],
   "source": [
    "def classaverage(n):\n",
    "    sum=0\n",
    "    \n",
    "    with open('DataFiles/marks.txt','r') as f:\n",
    "        s=f.read().split()\n",
    "        print(s)\n",
    "        for i in s:\n",
    "            sum+=int(i)\n",
    "        print(sum)\n",
    "        \n",
    "    return sum//n\n",
    "classaverage(100)\n",
    "            "
   ]
  },
  {
   "cell_type": "code",
   "execution_count": 83,
   "metadata": {},
   "outputs": [
    {
     "name": "stdout",
     "output_type": "stream",
     "text": [
      "53 : passed\n",
      "47 : Failed\n",
      "53.0 : Pass percentage\n",
      "47.0 : Failed percentage\n"
     ]
    }
   ],
   "source": [
    "# % of student passed\n",
    "def passPercentage(n):\n",
    "    with open('DataFiles/marks.txt','r') as f:\n",
    "        s=f.read().split()\n",
    "        #print(s)\n",
    "        c1=0\n",
    "        for i in s:\n",
    "            if int(i)>=40:\n",
    "                c1+=1\n",
    "                 #print('Pass')  \n",
    "           \n",
    "        print(c1,\": passed\")\n",
    "        print(n-c1,\": Failed\")\n",
    "        print((c1/n)*100,\": Pass percentage\")\n",
    "        print(100-(c1/n)*100,\": Failed percentage\")\n",
    "           \n",
    "    return\n",
    "passPercentage(100)\n",
    "    "
   ]
  },
  {
   "cell_type": "code",
   "execution_count": 87,
   "metadata": {},
   "outputs": [
    {
     "name": "stdout",
     "output_type": "stream",
     "text": [
      "30.0 : distinction percentage\n"
     ]
    }
   ],
   "source": [
    "# distinction percentage\n",
    "def distinction(n):\n",
    "    with open('DataFiles/marks.txt','r') as f:\n",
    "        s=f.read().split()\n",
    "        #print(s)\n",
    "        c1=0\n",
    "        for i in s:\n",
    "            if int(i)>=70:\n",
    "                c1+=1\n",
    "        print((c1/n)*100,\": distinction percentage\")\n",
    "    return\n",
    "distinction(100)"
   ]
  },
  {
   "cell_type": "code",
   "execution_count": 33,
   "metadata": {},
   "outputs": [
    {
     "name": "stdout",
     "output_type": "stream",
     "text": [
      "['70', '5', '80', '45', '3', '56', '50', '94', '82', '29']\n",
      "94 : Topper\n"
     ]
    }
   ],
   "source": [
    "# Heighest mark frequency\n",
    "def highest(n):\n",
    "    with open('DataFiles/marks.txt','r') as f:\n",
    "        s=f.read().split()\n",
    "        print(s)\n",
    "        print(max(s),\": Topper\")\n",
    "    return\n",
    "highest(10)"
   ]
  },
  {
   "cell_type": "code",
   "execution_count": 75,
   "metadata": {},
   "outputs": [
    {
     "name": "stdout",
     "output_type": "stream",
     "text": [
      "[70, 5, 80, 45, 3, 56, 50, 94, 82, 29]\n",
      "[3, 5, 29, 45, 50, 56, 70, 80, 82, 94]\n",
      "3 : least\n",
      "94 : highest\n"
     ]
    }
   ],
   "source": [
    "# Lowest mark frequency\n",
    "def lowest(n):\n",
    "    with open('DataFiles/marks.txt','r') as f:\n",
    "        s=f.read().split()\n",
    "        l=list(map(int,(s)))\n",
    "        print(l)\n",
    "        l.sort()\n",
    "        print(l)\n",
    "        print(min(l),\": least\")\n",
    "        print(max(l),\": highest\")\n",
    "    return\n",
    "lowest(10)"
   ]
  },
  {
   "cell_type": "code",
   "execution_count": null,
   "metadata": {},
   "outputs": [],
   "source": []
  },
  {
   "cell_type": "code",
   "execution_count": null,
   "metadata": {},
   "outputs": [],
   "source": []
  },
  {
   "cell_type": "code",
   "execution_count": null,
   "metadata": {},
   "outputs": [],
   "source": []
  },
  {
   "cell_type": "code",
   "execution_count": null,
   "metadata": {},
   "outputs": [],
   "source": []
  }
 ],
 "metadata": {
  "kernelspec": {
   "display_name": "Python 3",
   "language": "python",
   "name": "python3"
  },
  "language_info": {
   "codemirror_mode": {
    "name": "ipython",
    "version": 3
   },
   "file_extension": ".py",
   "mimetype": "text/x-python",
   "name": "python",
   "nbconvert_exporter": "python",
   "pygments_lexer": "ipython3",
   "version": "3.7.3"
  }
 },
 "nbformat": 4,
 "nbformat_minor": 2
}
