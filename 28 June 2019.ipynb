{
 "cells": [
  {
   "cell_type": "markdown",
   "metadata": {},
   "source": [
    "### Day Objectives:\n",
    "- Maps\n",
    "\n",
    "- Lambda\n",
    "\n",
    "- Filter\n",
    "\n",
    "- Use cases - File/Data Encryption"
   ]
  },
  {
   "cell_type": "markdown",
   "metadata": {},
   "source": [
    "### Map\n",
    "\n",
    "\n",
    "Mapping - Entity with Function\n",
    "\n",
    "f : x^2 \n",
    "\n",
    "x : [1,5]\n",
    "\n",
    "f(x) \n",
    "\n",
    "y=f(x)=x^2\n",
    "\n",
    "x    y\n",
    "\n",
    "1    1\n",
    "\n",
    "2    4\n",
    "\n",
    "3    9\n",
    "\n",
    "4    16 \n",
    "\n",
    "5    25\n",
    "\n",
    "\n",
    "\n",
    "map(function,Iterable)\n",
    "\n",
    "\n"
   ]
  },
  {
   "cell_type": "code",
   "execution_count": 3,
   "metadata": {},
   "outputs": [
    {
     "data": {
      "text/plain": [
       "1024"
      ]
     },
     "execution_count": 3,
     "metadata": {},
     "output_type": "execute_result"
    }
   ],
   "source": [
    "def powerN(a,n):\n",
    "    #return a**n\n",
    "    r=1\n",
    "    for i in range(0,n):\n",
    "        r *= a\n",
    "    return r\n",
    "powerN(2,10)\n",
    "     \n",
    "    \n",
    "def recursivepowerN(a,n):\n",
    "    if n==0:\n",
    "        return 1\n",
    "    else:\n",
    "        return a*recursivepowerN(a,n-1)\n",
    "recursivepowerN(2,10)\n",
    "\n"
   ]
  },
  {
   "cell_type": "code",
   "execution_count": 20,
   "metadata": {},
   "outputs": [
    {
     "data": {
      "text/plain": [
       "[1, 8, 27, 64, 125, 216]"
      ]
     },
     "execution_count": 20,
     "metadata": {},
     "output_type": "execute_result"
    }
   ],
   "source": [
    "def cube(n):\n",
    "    return n**3\n",
    "\n",
    "li=[1,2,3,4,5,6]\n",
    "\n",
    "set(map(cube,li))\n",
    "set(map(cube,[12]))\n",
    "\n",
    "#li=['1','2','3','4']\n",
    "li1=list(map(int,li))\n",
    "li2=list(map(str,li1))\n",
    "\n",
    "\n",
    "tuple(map(float,li))\n",
    "\n",
    "numbers=[int(i) for i in li]\n",
    "[cube(i) for i in numbers]"
   ]
  },
  {
   "cell_type": "code",
   "execution_count": null,
   "metadata": {},
   "outputs": [],
   "source": []
  },
  {
   "cell_type": "markdown",
   "metadata": {},
   "source": [
    "### Filter\n",
    "\n",
    "Used to check boolean values\n",
    "\n"
   ]
  },
  {
   "cell_type": "code",
   "execution_count": 15,
   "metadata": {},
   "outputs": [
    {
     "data": {
      "text/plain": [
       "['a', 's', 'i']"
      ]
     },
     "execution_count": 15,
     "metadata": {},
     "output_type": "execute_result"
    }
   ],
   "source": [
    "li=[1,2,3,4,'a','s','i',9]\n",
    "\n",
    "def isdigit(c):\n",
    "    c=str(c)\n",
    "    if c.isdigit():\n",
    "        return False\n",
    "    return True\n",
    "isdigit('1')\n",
    "list(filter(isdigit,li))"
   ]
  },
  {
   "cell_type": "code",
   "execution_count": 31,
   "metadata": {},
   "outputs": [
    {
     "data": {
      "text/plain": [
       "[2, 3, 5, 7]"
      ]
     },
     "execution_count": 31,
     "metadata": {},
     "output_type": "execute_result"
    }
   ],
   "source": [
    "# Identify all Primes in a range\n",
    "\n",
    "def checkPrime(c):\n",
    "    d=0\n",
    "    for i in range(1,c+1):\n",
    "        if c%i==0:\n",
    "            d+=1\n",
    "    if d==2:\n",
    "        return True\n",
    "    else:\n",
    "        return False\n",
    "checkPrime(5)\n",
    "\n",
    "#x=[1,2,3,4,5,6,7,8,9,10]            \n",
    "list(filter(checkPrime,[1,2,3,4,5,6,7,8,9,10]))  \n",
    "            "
   ]
  },
  {
   "cell_type": "code",
   "execution_count": 28,
   "metadata": {},
   "outputs": [
    {
     "data": {
      "text/plain": [
       "[2, 3, 5, 7]"
      ]
     },
     "execution_count": 28,
     "metadata": {},
     "output_type": "execute_result"
    }
   ],
   "source": [
    "def rangePrimes(n):\n",
    "    l=[]\n",
    "    for i in range(0,n):\n",
    "        if checkPrime(i):\n",
    "            l.append(i)\n",
    "    return l\n",
    "rangePrimes(10)\n",
    "            "
   ]
  },
  {
   "cell_type": "code",
   "execution_count": 21,
   "metadata": {},
   "outputs": [
    {
     "name": "stdout",
     "output_type": "stream",
     "text": [
      "[67, 71, 73, 79, 83, 89, 97, 101, 103, 107, 109, 113]\n",
      "[67, 71, 73, 79, 83, 89, 97, 101, 103, 107, 109, 113]\n"
     ]
    }
   ],
   "source": [
    "def isprime(n):\n",
    "    if n<2:\n",
    "        return False\n",
    "    for i in range(2,n//2+1):\n",
    "        if n%i==0:\n",
    "            return False\n",
    "    return True\n",
    "lb,ub=65,122\n",
    "Primeslist=list(filter(isprime,range(lb,ub)))\n",
    "print(Primeslist)\n",
    "Primelist=[i for i in range(lb,ub+1) if isprime(i)]\n",
    "print(Primelist)\n",
    "\n",
    "# Map fails because it doesn't apply for checking conditins"
   ]
  },
  {
   "cell_type": "code",
   "execution_count": null,
   "metadata": {},
   "outputs": [],
   "source": []
  },
  {
   "cell_type": "markdown",
   "metadata": {},
   "source": [
    "### Lambda\n",
    "\n",
    "Anonymous Functions\n",
    "\n",
    "Can be embedded into List Comprehensions,Maps,Filters\n"
   ]
  },
  {
   "cell_type": "code",
   "execution_count": 32,
   "metadata": {},
   "outputs": [
    {
     "data": {
      "text/plain": [
       "[2, 4, 6, 8]"
      ]
     },
     "execution_count": 32,
     "metadata": {},
     "output_type": "execute_result"
    }
   ],
   "source": [
    "a=lambda x: x**3 \n",
    "#a(3)\n",
    "\n",
    "list(map(lambda x:x**3 ,[1,2,3,4,5]))\n",
    "\n",
    "list(filter(lambda x:(x%2==0),[1,2,3,4,5,6,7,8]))\n",
    "\n"
   ]
  },
  {
   "cell_type": "code",
   "execution_count": 41,
   "metadata": {},
   "outputs": [
    {
     "name": "stdout",
     "output_type": "stream",
     "text": [
      "[22, 15, 16, 23, 8, 16, 8, 7, 22, 12]\n",
      "[8, 8, 7, 12]\n"
     ]
    }
   ],
   "source": [
    "from random import randint\n",
    "\n",
    "internal1=[randint(0,25) for i in range(10)]\n",
    "internal2=[randint(0,25) for i in range(10)]\n",
    "externl=[randint(0,75) for i in range(10)]\n",
    "averageInternal=list(map(lambda x,y: (x+y)//2, internal1,internal2))\n",
    "print(averageInternal)\n",
    "failedmarks=list(filter(lambda x:x<15, averageInternal))\n",
    "print(failedmarks)"
   ]
  },
  {
   "cell_type": "code",
   "execution_count": null,
   "metadata": {},
   "outputs": [],
   "source": []
  },
  {
   "cell_type": "markdown",
   "metadata": {},
   "source": [
    "### Applying functional programming to the marks analysis application\n",
    "\n"
   ]
  },
  {
   "cell_type": "code",
   "execution_count": 1,
   "metadata": {},
   "outputs": [],
   "source": [
    "# Generate Marks data\n",
    "from random import randint\n",
    "\n",
    "def generateMarks(n,lb,ub):\n",
    "    filename='DataFiles/marks.txt'\n",
    "    with open(filename, 'w') as f:\n",
    "        for i in range(n):\n",
    "            marks=randint(lb,ub)\n",
    "            f.write(str(marks)+'\\n')\n",
    "            \n",
    "generateMarks(100,0,100)\n",
    "        "
   ]
  },
  {
   "cell_type": "code",
   "execution_count": 11,
   "metadata": {},
   "outputs": [
    {
     "data": {
      "text/plain": [
       "50"
      ]
     },
     "execution_count": 11,
     "metadata": {},
     "output_type": "execute_result"
    }
   ],
   "source": [
    "# Marks Analysis\n",
    "    # Class Average, % of Passed,Failed and distinction,Frequency of highest and lowest marks\n",
    "def readMarkslist(filepath):\n",
    "    with open(filepath,'r') as f:\n",
    "        filedata=f.read().split()\n",
    "        #markslist=re.split('\\n',filedata)\n",
    "    return list(map(int,filedata))\n",
    "filepath='DataFiles/marks.txt'\n",
    "readMarkslist(filepath)\n",
    "\n",
    "    \n",
    "    \n",
    "def classavg(filepath):\n",
    "    markslist=readMarkslist(filepath)\n",
    "    return sum(markslist)//len(markslist)\n",
    "filepath='DataFiles/marks.txt'\n",
    "classavg(filename)"
   ]
  },
  {
   "cell_type": "code",
   "execution_count": 36,
   "metadata": {},
   "outputs": [
    {
     "data": {
      "text/plain": [
       "39.0"
      ]
     },
     "execution_count": 36,
     "metadata": {},
     "output_type": "execute_result"
    }
   ],
   "source": [
    "# Failed percentage\n",
    "\n",
    "def PercentageFailed(filepath):\n",
    "    markslist=readMarkslist(filepath)\n",
    "    failedcount=len(list(filter(lambda x:x<40, markslist)))\n",
    "    return (failedcount*100)/len(markslist)\n",
    "PercentageFailed(filepath)"
   ]
  },
  {
   "cell_type": "code",
   "execution_count": 37,
   "metadata": {},
   "outputs": [
    {
     "data": {
      "text/plain": [
       "61.0"
      ]
     },
     "execution_count": 37,
     "metadata": {},
     "output_type": "execute_result"
    }
   ],
   "source": [
    "def Percentagepassed(filepath):\n",
    "    return 100-PercentageFailed(filepath)\n",
    "Percentagepassed(filepath)"
   ]
  },
  {
   "cell_type": "code",
   "execution_count": 38,
   "metadata": {},
   "outputs": [
    {
     "data": {
      "text/plain": [
       "28.999999999999996"
      ]
     },
     "execution_count": 38,
     "metadata": {},
     "output_type": "execute_result"
    }
   ],
   "source": [
    "def distinction(filepath):\n",
    "    markslist=readMarkslist(filepath)\n",
    "    distinction=len(list(filter(lambda x:x>=70, markslist)))\n",
    "    return (distinction/len(markslist))*100\n",
    "distinction(filepath)"
   ]
  },
  {
   "cell_type": "code",
   "execution_count": 41,
   "metadata": {},
   "outputs": [
    {
     "data": {
      "text/plain": [
       "(1, 99)"
      ]
     },
     "execution_count": 41,
     "metadata": {},
     "output_type": "execute_result"
    }
   ],
   "source": [
    "def  highestmarkFrequency(filepath):\n",
    "    markslist=readMarkslist(filepath)\n",
    "    return markslist.count(max(markslist)),max(markslist)\n",
    "highestmarkFrequency(filepath)"
   ]
  },
  {
   "cell_type": "code",
   "execution_count": 42,
   "metadata": {},
   "outputs": [
    {
     "data": {
      "text/plain": [
       "(1, 3)"
      ]
     },
     "execution_count": 42,
     "metadata": {},
     "output_type": "execute_result"
    }
   ],
   "source": [
    "def  lowestmarkFrequency(filepath):\n",
    "    markslist=readMarkslist(filepath)\n",
    "    return markslist.count(min(markslist)),min(markslist)\n",
    "lowestmarkFrequency(filepath)"
   ]
  },
  {
   "cell_type": "code",
   "execution_count": null,
   "metadata": {},
   "outputs": [],
   "source": []
  },
  {
   "cell_type": "markdown",
   "metadata": {},
   "source": [
    "### Data Encryption\n",
    "\n",
    "\n",
    "key - Mapping of data/charecters with replaced charecter\n",
    "\n",
    "0 -> 4\n",
    "\n",
    "1 -> 5\n",
    "\n",
    "2 -> 6\n",
    "\n",
    "3 -> 7\n",
    "\n",
    "4 -> 8\n",
    "\n",
    "5 -> 9\n",
    "\n",
    "6 -> 0\n",
    "\n",
    "7 -> 1\n",
    "\n",
    "8 -> 2\n",
    "\n",
    "9 -> 3"
   ]
  },
  {
   "cell_type": "code",
   "execution_count": 43,
   "metadata": {},
   "outputs": [],
   "source": [
    "# Function to generate key for encryption\n",
    "keypath='DataFiles/key.txt'\n",
    "def generateKey(keypath):\n",
    "    with open(keypath,'w') as f:\n",
    "        for i in range(10):\n",
    "            if i<6:\n",
    "                f.write(str(i)+ ' '+str(i+4)+'\\n')\n",
    "            else:\n",
    "                 f.write(str(i)+ ' '+str(i-6)+'\\n')\n",
    "    return\n",
    "generateKey(keypath)\n",
    "                    \n",
    "    "
   ]
  },
  {
   "cell_type": "code",
   "execution_count": 47,
   "metadata": {},
   "outputs": [
    {
     "data": {
      "text/plain": [
       "{'0': '4',\n",
       " '1': '5',\n",
       " '2': '6',\n",
       " '3': '7',\n",
       " '4': '8',\n",
       " '5': '9',\n",
       " '6': '0',\n",
       " '7': '1',\n",
       " '8': '2',\n",
       " '9': '3'}"
      ]
     },
     "execution_count": 47,
     "metadata": {},
     "output_type": "execute_result"
    }
   ],
   "source": [
    "# Function to encrypt a data file\n",
    "\n",
    "keyfile='DataFiles/key.txt'\n",
    "def dictionaryKeyFile(keyfile):\n",
    "    key={}\n",
    "    with open(keyfile,'r') as f:\n",
    "        #line=f.readline().split()\n",
    "        for line in f:\n",
    "            line=line.split()\n",
    "            key[line[0]]=line[1]\n",
    "    return key\n",
    "dictionaryKeyFile(keyfile)\n",
    "\n",
    "\n",
    "    "
   ]
  },
  {
   "cell_type": "code",
   "execution_count": null,
   "metadata": {},
   "outputs": [],
   "source": []
  },
  {
   "cell_type": "code",
   "execution_count": null,
   "metadata": {},
   "outputs": [],
   "source": []
  },
  {
   "cell_type": "code",
   "execution_count": null,
   "metadata": {},
   "outputs": [],
   "source": []
  },
  {
   "cell_type": "code",
   "execution_count": null,
   "metadata": {},
   "outputs": [],
   "source": []
  },
  {
   "cell_type": "code",
   "execution_count": null,
   "metadata": {},
   "outputs": [],
   "source": []
  },
  {
   "cell_type": "code",
   "execution_count": null,
   "metadata": {},
   "outputs": [],
   "source": []
  },
  {
   "cell_type": "code",
   "execution_count": null,
   "metadata": {},
   "outputs": [],
   "source": []
  },
  {
   "cell_type": "code",
   "execution_count": null,
   "metadata": {},
   "outputs": [],
   "source": []
  },
  {
   "cell_type": "code",
   "execution_count": null,
   "metadata": {},
   "outputs": [],
   "source": []
  },
  {
   "cell_type": "code",
   "execution_count": null,
   "metadata": {},
   "outputs": [],
   "source": []
  }
 ],
 "metadata": {
  "kernelspec": {
   "display_name": "Python 3",
   "language": "python",
   "name": "python3"
  },
  "language_info": {
   "codemirror_mode": {
    "name": "ipython",
    "version": 3
   },
   "file_extension": ".py",
   "mimetype": "text/x-python",
   "name": "python",
   "nbconvert_exporter": "python",
   "pygments_lexer": "ipython3",
   "version": "3.7.3"
  }
 },
 "nbformat": 4,
 "nbformat_minor": 2
}
