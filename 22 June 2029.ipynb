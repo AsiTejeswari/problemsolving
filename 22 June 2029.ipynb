{
 "cells": [
  {
   "cell_type": "markdown",
   "metadata": {},
   "source": [
    "#### Day Objectives\n",
    "\n",
    "- File handling\n",
    "    -Basic Files Data Processing\n",
    "       - Accessing and modifying File data\n",
    "    - Charecter Count\n",
    "    - Line Count\n",
    "    - File Size\n",
    "    - Word Count\n",
    "    - Unique Word Count\n",
    "    "
   ]
  },
  {
   "cell_type": "code",
   "execution_count": 2,
   "metadata": {},
   "outputs": [
    {
     "name": "stdout",
     "output_type": "stream",
     "text": [
      "new data\n",
      "line 1\n",
      "line 2\n",
      "line 3\n",
      "line 4\n"
     ]
    }
   ],
   "source": [
    "# Read a File - File should exist(Read mode)\n",
    "# Write to a File- Existing(append) or New File(Write mode)\n",
    "\n",
    "def readFile(filepath):\n",
    "    with open(filepath,'r') as f:\n",
    "        filedata=f.read()\n",
    "        #print(type(f))\n",
    "    return filedata\n",
    "filepath='DataFiles/data.txt'\n",
    "print(readFile(filepath))\n"
   ]
  },
  {
   "cell_type": "code",
   "execution_count": 3,
   "metadata": {},
   "outputs": [
    {
     "name": "stdout",
     "output_type": "stream",
     "text": [
      "36\n"
     ]
    }
   ],
   "source": [
    "# charecter count\n",
    "def charcount(file):\n",
    "    with open(file,'r') as f:\n",
    "        s=f.read()\n",
    "        \n",
    "        c=0\n",
    "        for i in s:\n",
    "            c+=1\n",
    "        print(c)\n",
    "    return\n",
    "file='DataFiles/data.txt'\n",
    "charcount(file)\n",
    "        "
   ]
  },
  {
   "cell_type": "code",
   "execution_count": 4,
   "metadata": {},
   "outputs": [
    {
     "name": "stdout",
     "output_type": "stream",
     "text": [
      "5\n"
     ]
    }
   ],
   "source": [
    "# lines count\n",
    "def linescount(file):\n",
    "    with open(file,'r') as f:\n",
    "        y=f.readlines()\n",
    "        count=0\n",
    "        for i in y:\n",
    "            count+=1\n",
    "        print(count)\n",
    "    return\n",
    "file='DataFiles/data.txt'\n",
    "linescount(file)\n"
   ]
  },
  {
   "cell_type": "code",
   "execution_count": 5,
   "metadata": {},
   "outputs": [
    {
     "name": "stdout",
     "output_type": "stream",
     "text": [
      "['new data\\n', 'line 1\\n', 'line 2\\n', 'line 3\\n', 'line 4']\n",
      "5\n",
      "10\n"
     ]
    }
   ],
   "source": [
    "#word count\n",
    "def wordcount(file):\n",
    "    with open(file,'r') as f:\n",
    "        y=f.readlines()\n",
    "        print(y)\n",
    "        c=0\n",
    "        word=0\n",
    "        for i in y:\n",
    "            for j in i:\n",
    "                if j==\" \":\n",
    "                    c=c+1\n",
    "            word+=2\n",
    "        print(c)\n",
    "        print(word)\n",
    "                    \n",
    "                    \n",
    "    return\n",
    "wordcount(file)"
   ]
  },
  {
   "cell_type": "code",
   "execution_count": 6,
   "metadata": {},
   "outputs": [
    {
     "name": "stdout",
     "output_type": "stream",
     "text": [
      "['new', 'data', 'line', '1', 'line', '2', 'line', '3', 'line', '4']\n",
      "10\n"
     ]
    }
   ],
   "source": [
    "# word count\n",
    "def wordcount(file):\n",
    "    with open(file,'r') as f:\n",
    "        y=f.read().split()\n",
    "        print(y)\n",
    "        print(len(y))\n",
    "wordcount(file)"
   ]
  },
  {
   "cell_type": "code",
   "execution_count": 7,
   "metadata": {},
   "outputs": [
    {
     "name": "stdout",
     "output_type": "stream",
     "text": [
      "['new', 'data', 'line', '1', 'line', '2', 'line', '3', 'line', '4']\n"
     ]
    },
    {
     "data": {
      "text/plain": [
       "7"
      ]
     },
     "execution_count": 7,
     "metadata": {},
     "output_type": "execute_result"
    }
   ],
   "source": [
    "# unique word count\n",
    "def uniquewordcount(file):\n",
    "    with open(file,'r') as f:\n",
    "        s=f.read().split()\n",
    "        print(s)\n",
    "        y=set(s)\n",
    "    return len(y)\n",
    "       \n",
    "uniquewordcount(file)\n"
   ]
  },
  {
   "cell_type": "code",
   "execution_count": 8,
   "metadata": {},
   "outputs": [
    {
     "name": "stdout",
     "output_type": "stream",
     "text": [
      "File size in bytes :  36\n"
     ]
    }
   ],
   "source": [
    "#file size\n",
    "\n",
    "def file_size(file):\n",
    "        import os\n",
    "        size = os.stat(file)\n",
    "        \n",
    "        return size.st_size\n",
    "\n",
    "\n",
    "\n",
    "print(\"File size in bytes : \",file_size(file))\n"
   ]
  },
  {
   "cell_type": "code",
   "execution_count": 43,
   "metadata": {},
   "outputs": [
    {
     "name": "stdout",
     "output_type": "stream",
     "text": [
      "['new', 'data', 'line', '1', 'line', '2', 'line', '3', 'line', '4']\n",
      "['new', 'data', 'line', '1', '2', '3', '4']\n",
      "new 1\n",
      "data 1\n",
      "line 4\n",
      "1 1\n",
      "2 1\n",
      "3 1\n",
      "4 1\n"
     ]
    }
   ],
   "source": [
    "def uniquewordcount(file):\n",
    "    with open(file,'r') as f:\n",
    "        s=f.read().split()\n",
    "        print(s)\n",
    "        l=[]\n",
    "        for i in s:\n",
    "            if i not in l:\n",
    "                l.append(i)\n",
    "        print(l)\n",
    "        for j in l:\n",
    "            c=0\n",
    "            for k in range(0,len(s)):\n",
    "                if j==s[k]:\n",
    "                    c+=1\n",
    "            print(j,c)\n",
    "        c=0\n",
    "                   \n",
    "    return \n",
    "       \n",
    "uniquewordcount(file)\n",
    "\n"
   ]
  },
  {
   "cell_type": "code",
   "execution_count": null,
   "metadata": {},
   "outputs": [],
   "source": []
  }
 ],
 "metadata": {
  "kernelspec": {
   "display_name": "Python 3",
   "language": "python",
   "name": "python3"
  },
  "language_info": {
   "codemirror_mode": {
    "name": "ipython",
    "version": 3
   },
   "file_extension": ".py",
   "mimetype": "text/x-python",
   "name": "python",
   "nbconvert_exporter": "python",
   "pygments_lexer": "ipython3",
   "version": "3.7.3"
  }
 },
 "nbformat": 4,
 "nbformat_minor": 2
}
