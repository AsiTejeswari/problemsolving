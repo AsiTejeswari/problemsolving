{
 "cells": [
  {
   "cell_type": "markdown",
   "metadata": {},
   "source": [
    "### Markdown  Basics\n",
    "\n",
    "*  **Bold**  \n",
    "*  *Itallic*  \n",
    "*  ***IB***\n",
    "*  Normal Text\n",
    "    * Sublist 1\n",
    "    * Sublist 2O\n",
    "    \n",
    "    \n",
    "    Ordered list\n",
    "1. Ordered list element 1  \n",
    "2. Ordered list element 2\n",
    "\n",
    "\n",
    "\n",
    "- []Option 1\n",
    "- []option 2\n",
    "- [x]option 3\n",
    "\n",
    "\n",
    "\n",
    "\n",
    "\n",
    "\n",
    "I get 10 times more traffic from [Google][] than from\n",
    "[Yahoo][] or [MSN][].\n",
    "\n",
    "  [google]: http://google.com/        \"Google\"\n",
    "  [yahoo]:  http://search.yahoo.com/  \"Yahoo Search\"\n",
    "  [msn]:    http://search.msn.com/    \"MSN Search\"\n",
    "  \n",
    "  \n",
    "  \n",
    "  for code formate font:\n",
    "  printf(\"Hello Markdown\")\n",
    "  \n",
    "\n",
    "\n",
    "[Jupyter logo](Jupyterlogo.png)\n",
    "\n",
    "\n",
    "<img src=\"Jupyterlogo.png\" style=\"float:left\">\n",
    "\n",
    "\n",
    "\n",
    "\n",
    "\n",
    "\n",
    "\n",
    "\n",
    "\n",
    "\n",
    "\n",
    "\n"
   ]
  },
  {
   "cell_type": "code",
   "execution_count": null,
   "metadata": {},
   "outputs": [],
   "source": []
  },
  {
   "cell_type": "code",
   "execution_count": null,
   "metadata": {},
   "outputs": [],
   "source": []
  },
  {
   "cell_type": "markdown",
   "metadata": {},
   "source": [
    "### Python  Basics\n",
    "\n",
    "\n",
    "#### python version 3.7\n",
    "\n",
    "* scripting   \n",
    "* object oriented\n",
    "* functional"
   ]
  },
  {
   "cell_type": "code",
   "execution_count": 1,
   "metadata": {},
   "outputs": [
    {
     "name": "stdout",
     "output_type": "stream",
     "text": [
      "good afternoon !\n",
      "good afternoon!\n",
      "good afternoon !||hello Python\n"
     ]
    }
   ],
   "source": [
    "#  Python comments\n",
    "\n",
    "\n",
    "print(\"good afternoon !\")# basic output\n",
    "print(\"good afternoon\" \"!\")\n",
    "print(\"good afternoon\", \"!\",end=\"||\")\n",
    "print(\"hello Python\")"
   ]
  },
  {
   "cell_type": "code",
   "execution_count": null,
   "metadata": {},
   "outputs": [],
   "source": []
  },
  {
   "cell_type": "markdown",
   "metadata": {},
   "source": [
    "### Assignment"
   ]
  },
  {
   "cell_type": "markdown",
   "metadata": {},
   "source": [
    "n1 = 123456    # single variable assignment\n",
    "\n",
    "n2=n3=n4=n1   # Multi variable  assignment of the same variable \n",
    "\n",
    "\n",
    "a,b,c=122,234,345#multi variable assignment with different values\n",
    "\n",
    "print(a,b,c)\n",
    "\n",
    "atoms = 10 ** 89\n"
   ]
  },
  {
   "cell_type": "markdown",
   "metadata": {},
   "source": [
    "### Conditional checking"
   ]
  },
  {
   "cell_type": "markdown",
   "metadata": {},
   "source": [
    "### Data types and typeconversions\n",
    "\n",
    "- int\n",
    "- char\n",
    "- float\n",
    "- double\n",
    "- string"
   ]
  },
  {
   "cell_type": "code",
   "execution_count": 3,
   "metadata": {},
   "outputs": [
    {
     "data": {
      "text/plain": [
       "'12'"
      ]
     },
     "execution_count": 3,
     "metadata": {},
     "output_type": "execute_result"
    }
   ],
   "source": [
    "a=123\n",
    "type(a)\n",
    "s1 = \" python \"\n",
    "type(s1)\n",
    "\n",
    "f1 = 12.345\n",
    "type(f1)\n",
    " \n",
    "str(int(f1)) "
   ]
  },
  {
   "cell_type": "code",
   "execution_count": 4,
   "metadata": {},
   "outputs": [
    {
     "name": "stdout",
     "output_type": "stream",
     "text": [
      "true\n"
     ]
    }
   ],
   "source": [
    "atoms = 10 ** 89\n",
    "if atoms < 10 ** 98:\n",
    "    print(\"true\")\n",
    "else:\n",
    "    print(\"false\")"
   ]
  },
  {
   "cell_type": "markdown",
   "metadata": {},
   "source": []
  },
  {
   "cell_type": "code",
   "execution_count": 5,
   "metadata": {},
   "outputs": [
    {
     "name": "stdout",
     "output_type": "stream",
     "text": [
      "false\n"
     ]
    }
   ],
   "source": [
    "n=123\n",
    "if n % 2 == 0:\n",
    "    print(\"true\")\n",
    "else:\n",
    "    print(\"false\")"
   ]
  },
  {
   "cell_type": "code",
   "execution_count": 6,
   "metadata": {},
   "outputs": [
    {
     "name": "stdout",
     "output_type": "stream",
     "text": [
      "enter a number12\n",
      "enter a number23\n",
      "enter a number13\n",
      "23 n2 is gratest\n"
     ]
    }
   ],
   "source": [
    "# find the largest no among 3 numbers\n",
    "n1=int(input(\"enter a number\"))\n",
    "n2=int(input (\"enter a number\"))\n",
    "n3=int(input (\"enter a number\"))\n",
    "if n1>n2 and n1>n3:\n",
    "    print(n1,\" n1 is greatest\")\n",
    "elif n2>n3:\n",
    "    print(n2,\"n2 is gratest\")\n",
    "else:\n",
    "    print(n3,\"n3 is greatest\")"
   ]
  },
  {
   "cell_type": "code",
   "execution_count": 11,
   "metadata": {},
   "outputs": [
    {
     "name": "stdout",
     "output_type": "stream",
     "text": [
      "enter the year2020\n",
      "2020 leap year\n"
     ]
    }
   ],
   "source": [
    "# check the year is leap year or not\n",
    "year=int(input(\"enter the year\"))\n",
    "if year%400==0 or(year%100!=0 and  year%4==0):\n",
    "    print(year,\"leap year\")\n",
    "else:\n",
    "    print(year,\"not a leap year\")"
   ]
  },
  {
   "cell_type": "code",
   "execution_count": 18,
   "metadata": {},
   "outputs": [
    {
     "name": "stdout",
     "output_type": "stream",
     "text": [
      "enter a number12\n",
      "enter lb1\n",
      "enter ub14\n",
      "12 no is available\n"
     ]
    }
   ],
   "source": [
    "n=int(input(\"enter a number\"))\n",
    "x=int(input(\"enter lb\"))\n",
    "y=int(input(\"enter ub\"))\n",
    "if n>=x or n<=y:\n",
    "    print(n1,\"no is available\")\n",
    "else:\n",
    "    print(n1,\"no not in range\")\n",
    "\n"
   ]
  },
  {
   "cell_type": "code",
   "execution_count": 23,
   "metadata": {},
   "outputs": [
    {
     "name": "stdout",
     "output_type": "stream",
     "text": [
      "5\n"
     ]
    }
   ],
   "source": [
    "# find no of digits in the number\n",
    "n1=12345\n",
    "print(len(str(n1)))"
   ]
  },
  {
   "cell_type": "code",
   "execution_count": 25,
   "metadata": {},
   "outputs": [
    {
     "name": "stdout",
     "output_type": "stream",
     "text": [
      "enter a number100\n",
      "number is factor of 10\n"
     ]
    }
   ],
   "source": [
    "# check if the no is factor of 10 or not\n",
    "x=int(input(\"enter a number\"))\n",
    "if x%10==0:\n",
    "    print(\"number is factor of 10\")\n",
    "else:\n",
    "    print(\"no is not a factor of 10\")"
   ]
  },
  {
   "cell_type": "code",
   "execution_count": 26,
   "metadata": {},
   "outputs": [
    {
     "name": "stdout",
     "output_type": "stream",
     "text": [
      "enter a string1234\n",
      "enter a number1234\n",
      "1234 string is not equal to number\n"
     ]
    }
   ],
   "source": [
    "# check whether the string is equal to no or not\n",
    "s=int(input(\"enter a string\"))\n",
    "n=int(input(\"enter a number\"))\n",
    "\n",
    "if str(n)==s:\n",
    "    print(n,\"string is equal to number\")\n",
    "else:\n",
    "    print(n,\"string is not equal to number\")"
   ]
  },
  {
   "cell_type": "code",
   "execution_count": 29,
   "metadata": {},
   "outputs": [
    {
     "name": "stdout",
     "output_type": "stream",
     "text": [
      "enter a no12\n"
     ]
    },
    {
     "data": {
      "text/plain": [
       "3.4641016151377544"
      ]
     },
     "execution_count": 29,
     "metadata": {},
     "output_type": "execute_result"
    }
   ],
   "source": [
    "# find squart of a number\n",
    "y=int(input(\"enter a no\"))\n",
    "y ** 0.5\n"
   ]
  },
  {
   "cell_type": "code",
   "execution_count": 33,
   "metadata": {},
   "outputs": [
    {
     "name": "stdout",
     "output_type": "stream",
     "text": [
      "enter the year2020\n",
      "31622400000000000\n"
     ]
    }
   ],
   "source": [
    "# count nano seconds in leap year\n",
    "\n",
    "year=int(input(\"enter the year\"))\n",
    "if year % 400 == 0 or (year % 4 == 0 and  year % 100 != 0):\n",
    "    print(366*24*60*60*(10**9))\n",
    "else:\n",
    "    print(365*24*60*60*(10**9))"
   ]
  },
  {
   "cell_type": "code",
   "execution_count": 34,
   "metadata": {},
   "outputs": [
    {
     "name": "stdout",
     "output_type": "stream",
     "text": [
      "enter a number12\n",
      "no is even\n"
     ]
    }
   ],
   "source": [
    "n=int(input(\"enter a number\"))\n",
    "if n%2==0:\n",
    "    print(\"no is even\")\n",
    "else:\n",
    "    print(\"no is odd\")\n"
   ]
  },
  {
   "cell_type": "code",
   "execution_count": null,
   "metadata": {},
   "outputs": [],
   "source": []
  }
 ],
 "metadata": {
  "kernelspec": {
   "display_name": "Python 3",
   "language": "python",
   "name": "python3"
  },
  "language_info": {
   "codemirror_mode": {
    "name": "ipython",
    "version": 3
   },
   "file_extension": ".py",
   "mimetype": "text/x-python",
   "name": "python",
   "nbconvert_exporter": "python",
   "pygments_lexer": "ipython3",
   "version": "3.7.3"
  }
 },
 "nbformat": 4,
 "nbformat_minor": 2
}
