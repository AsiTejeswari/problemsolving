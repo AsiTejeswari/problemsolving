{
 "cells": [
  {
   "cell_type": "code",
   "execution_count": 1,
   "metadata": {},
   "outputs": [
    {
     "name": "stdout",
     "output_type": "stream",
     "text": [
      "2\n",
      "2 42 8 23\n",
      "5  41\n",
      "1 44 2 14\n",
      "0  30\n"
     ]
    }
   ],
   "source": [
    "def findTimeDifference(string):\n",
    "    h=list(map(int,string.split()))\n",
    "    m1=h[0]*60+h[1]\n",
    "    m2=h[2]*60+h[3]\n",
    "    \n",
    "    finaldiff=m2-m1\n",
    "    hours=finaldiff//60\n",
    "    minutes=finaldiff%60\n",
    "    print(hours,\"\",minutes)\n",
    "    \n",
    "n=int(input())\n",
    "for time in  range(n):\n",
    "    string=input()\n",
    "    findTimeDifference(string)"
   ]
  },
  {
   "cell_type": "code",
   "execution_count": 3,
   "metadata": {},
   "outputs": [
    {
     "data": {
      "text/html": [
       "<div>\n",
       "<style scoped>\n",
       "    .dataframe tbody tr th:only-of-type {\n",
       "        vertical-align: middle;\n",
       "    }\n",
       "\n",
       "    .dataframe tbody tr th {\n",
       "        vertical-align: top;\n",
       "    }\n",
       "\n",
       "    .dataframe thead th {\n",
       "        text-align: right;\n",
       "    }\n",
       "</style>\n",
       "<table border=\"1\" class=\"dataframe\">\n",
       "  <thead>\n",
       "    <tr style=\"text-align: right;\">\n",
       "      <th></th>\n",
       "      <th>GEOID</th>\n",
       "      <th>State</th>\n",
       "      <th>2005</th>\n",
       "      <th>2006</th>\n",
       "      <th>2007</th>\n",
       "      <th>2008</th>\n",
       "      <th>2009</th>\n",
       "      <th>2010</th>\n",
       "      <th>2011</th>\n",
       "      <th>2012</th>\n",
       "      <th>2013</th>\n",
       "    </tr>\n",
       "  </thead>\n",
       "  <tbody>\n",
       "    <tr>\n",
       "      <th>0</th>\n",
       "      <td>04000US01</td>\n",
       "      <td>Alabama</td>\n",
       "      <td>37150</td>\n",
       "      <td>37952</td>\n",
       "      <td>42212</td>\n",
       "      <td>44476</td>\n",
       "      <td>39980</td>\n",
       "      <td>40933</td>\n",
       "      <td>42590</td>\n",
       "      <td>43464</td>\n",
       "      <td>41381</td>\n",
       "    </tr>\n",
       "    <tr>\n",
       "      <th>1</th>\n",
       "      <td>04000US02</td>\n",
       "      <td>Alaska</td>\n",
       "      <td>55891</td>\n",
       "      <td>56418</td>\n",
       "      <td>62993</td>\n",
       "      <td>63989</td>\n",
       "      <td>61604</td>\n",
       "      <td>57848</td>\n",
       "      <td>57431</td>\n",
       "      <td>63648</td>\n",
       "      <td>61137</td>\n",
       "    </tr>\n",
       "    <tr>\n",
       "      <th>2</th>\n",
       "      <td>04000US04</td>\n",
       "      <td>Arizona</td>\n",
       "      <td>45245</td>\n",
       "      <td>46657</td>\n",
       "      <td>62993</td>\n",
       "      <td>46914</td>\n",
       "      <td>45739</td>\n",
       "      <td>46896</td>\n",
       "      <td>48621</td>\n",
       "      <td>47044</td>\n",
       "      <td>50602</td>\n",
       "    </tr>\n",
       "    <tr>\n",
       "      <th>3</th>\n",
       "      <td>04000US05</td>\n",
       "      <td>Arkansas</td>\n",
       "      <td>36658</td>\n",
       "      <td>37057</td>\n",
       "      <td>40795</td>\n",
       "      <td>39586</td>\n",
       "      <td>36538</td>\n",
       "      <td>38587</td>\n",
       "      <td>41302</td>\n",
       "      <td>39018</td>\n",
       "      <td>39919</td>\n",
       "    </tr>\n",
       "    <tr>\n",
       "      <th>4</th>\n",
       "      <td>04000US06</td>\n",
       "      <td>California</td>\n",
       "      <td>51755</td>\n",
       "      <td>55319</td>\n",
       "      <td>55734</td>\n",
       "      <td>57014</td>\n",
       "      <td>56134</td>\n",
       "      <td>54283</td>\n",
       "      <td>53367</td>\n",
       "      <td>57020</td>\n",
       "      <td>57528</td>\n",
       "    </tr>\n",
       "  </tbody>\n",
       "</table>\n",
       "</div>"
      ],
      "text/plain": [
       "       GEOID       State   2005   2006   2007   2008   2009   2010   2011  \\\n",
       "0  04000US01     Alabama  37150  37952  42212  44476  39980  40933  42590   \n",
       "1  04000US02      Alaska  55891  56418  62993  63989  61604  57848  57431   \n",
       "2  04000US04     Arizona  45245  46657  62993  46914  45739  46896  48621   \n",
       "3  04000US05    Arkansas  36658  37057  40795  39586  36538  38587  41302   \n",
       "4  04000US06  California  51755  55319  55734  57014  56134  54283  53367   \n",
       "\n",
       "    2012   2013  \n",
       "0  43464  41381  \n",
       "1  63648  61137  \n",
       "2  47044  50602  \n",
       "3  39018  39919  \n",
       "4  57020  57528  "
      ]
     },
     "execution_count": 3,
     "metadata": {},
     "output_type": "execute_result"
    }
   ],
   "source": [
    "filepath='Datafiles/Income.csv'\n",
    "\n",
    "import pandas as pa\n",
    "def GetIncomeDataFromCSV(filepath):\n",
    "    return pa.read_csv(filepath)\n",
    "\n",
    "GetIncomeDataFromCSV(filepath)"
   ]
  },
  {
   "cell_type": "code",
   "execution_count": 4,
   "metadata": {},
   "outputs": [
    {
     "name": "stdout",
     "output_type": "stream",
     "text": [
      "41126.444444444445\n",
      "60106.555555555555\n",
      "48967.88888888889\n",
      "38828.88888888889\n",
      "55350.444444444445\n"
     ]
    }
   ],
   "source": [
    "# Average Income of all ststes from 2005 to 2013\n",
    "incomedf=GetIncomeDataFromCSV(filepath)\n",
    "def RowAccessData(df):\n",
    "    data=df.values\n",
    "    for i in data:\n",
    "        k=i[2:]\n",
    "        print((sum(k)/len(k)))\n",
    "    \n",
    "                \n",
    "RowAccessData(incomedf)"
   ]
  },
  {
   "cell_type": "code",
   "execution_count": null,
   "metadata": {},
   "outputs": [],
   "source": []
  },
  {
   "cell_type": "code",
   "execution_count": null,
   "metadata": {},
   "outputs": [],
   "source": []
  },
  {
   "cell_type": "code",
   "execution_count": 5,
   "metadata": {},
   "outputs": [
    {
     "name": "stdout",
     "output_type": "stream",
     "text": [
      "48876.04444444444\n"
     ]
    }
   ],
   "source": [
    "incomedf=GetIncomeDataFromCSV(filepath)\n",
    "def RowAccessData(df):\n",
    "    output=0\n",
    "    data=df.values\n",
    "    for i in data:\n",
    "        k=i[2:]\n",
    "        output=output+(sum(k)/len(k))\n",
    "    print(output/len(data))\n",
    "        \n",
    "            \n",
    "    \n",
    "RowAccessData(incomedf)"
   ]
  },
  {
   "cell_type": "code",
   "execution_count": 6,
   "metadata": {},
   "outputs": [
    {
     "name": "stdout",
     "output_type": "stream",
     "text": [
      "60738.666666666664\n"
     ]
    }
   ],
   "source": [
    "# State with highest average income in the last three years\n",
    "\n",
    "incomedf=GetIncomeDataFromCSV(filepath)\n",
    "\n",
    "def AveargeLastThreeYears(df):\n",
    "    list1=[]\n",
    "    data1=df.values\n",
    "    for data in data1:\n",
    "        d=data[-3:]\n",
    "        a=sum(d)/len(d)\n",
    "        list1.append(a)\n",
    "    print(max(list1))\n",
    "        \n",
    "        \n",
    "        \n",
    "AveargeLastThreeYears(incomedf)"
   ]
  },
  {
   "cell_type": "code",
   "execution_count": 8,
   "metadata": {},
   "outputs": [
    {
     "name": "stdout",
     "output_type": "stream",
     "text": [
      "(60738, 'Alaska')\n"
     ]
    }
   ],
   "source": [
    "# State with highest average income in the last three years\n",
    "\n",
    "incomedf=GetIncomeDataFromCSV(filepath)\n",
    "\n",
    "def AveargeLastThreeYears(df):\n",
    "    dict1={}\n",
    "    data2=df.values\n",
    "    for data in data2:\n",
    "        d=data[-3:]\n",
    "        avg=sum(d)//len(d)\n",
    "        dict1[avg]=data[1]\n",
    "    print(max(dict1.items()))\n",
    "        \n",
    "        \n",
    "        \n",
    "AveargeLastThreeYears(incomedf)"
   ]
  },
  {
   "cell_type": "code",
   "execution_count": 9,
   "metadata": {},
   "outputs": [
    {
     "name": "stdout",
     "output_type": "stream",
     "text": [
      "(38876, 'Arkansas')\n"
     ]
    }
   ],
   "source": [
    "# State with lowest average income from 2007 to 2010(inclusive)\n",
    "\n",
    "incomedf=GetIncomeDataFromCSV(filepath)\n",
    "\n",
    "def FindLowestAvearge(df):\n",
    "    dict2={}\n",
    "    data2=df.values\n",
    "    for data in data2:\n",
    "        d=data[4:8]\n",
    "        avg1=sum(d)//len(d)\n",
    "        dict2[avg1]=data[1]\n",
    "    print(min(dict2.items()))\n",
    "    \n",
    "FindLowestAvearge(incomedf)"
   ]
  },
  {
   "cell_type": "code",
   "execution_count": 10,
   "metadata": {},
   "outputs": [
    {
     "name": "stdout",
     "output_type": "stream",
     "text": [
      "['Arkansas', 'Alabama', 'Arizona']\n"
     ]
    }
   ],
   "source": [
    "# Print the list of all states in the same line with average income less than California\n",
    "\n",
    "incomedf=GetIncomeDataFromCSV(filepath)\n",
    "\n",
    "def PrintAverageLessCalifornia(df):\n",
    "    dict3={}\n",
    "    list2=[]\n",
    "    data4=df.values\n",
    "    for data in data4:\n",
    "        d=data[2:]\n",
    "        avg=sum(d)//len(d)\n",
    "        dict3[avg]=data[1]\n",
    "    d=sorted(dict3.items())\n",
    "    for i in d:\n",
    "        if i[1]=='California':\n",
    "            break\n",
    "        else:\n",
    "            list2.append(i[1])\n",
    "    print(list2)\n",
    "            \n",
    "    \n",
    "PrintAverageLessCalifornia(incomedf)\n"
   ]
  },
  {
   "cell_type": "code",
   "execution_count": 11,
   "metadata": {},
   "outputs": [
    {
     "name": "stdout",
     "output_type": "stream",
     "text": [
      "Alaska\n",
      "California\n",
      "Arizona\n",
      "Alabama\n",
      "Arkansas\n"
     ]
    }
   ],
   "source": [
    "# Print the names of states based on descending order of income in the year 2009\n",
    "\n",
    "incomedf=GetIncomeDataFromCSV(filepath)\n",
    "\n",
    "def PrintStateBasedonDescending(df):\n",
    "    data6=df.values\n",
    "    dict5={}\n",
    "    for data in data6:\n",
    "        g=data[6]\n",
    "        dict5[g]=data[1]\n",
    "    sort=sorted(dict5.items(),reverse=True)\n",
    "    for state in sort:\n",
    "        print(state[1])\n",
    "        \n",
    "PrintStateBasedonDescending(incomedf)"
   ]
  },
  {
   "cell_type": "code",
   "execution_count": 12,
   "metadata": {},
   "outputs": [
    {
     "name": "stdout",
     "output_type": "stream",
     "text": [
      "Arkansas\n"
     ]
    }
   ],
   "source": [
    "# State with the lowest recorded income from 2005 to 2013\n",
    "\n",
    "incomedf=GetIncomeDataFromCSV(filepath)\n",
    "\n",
    "def FindLowestIncome(df):\n",
    "    dict6={}\n",
    "    data=df.values\n",
    "    for income in data:\n",
    "        g=income[2:]\n",
    "        dict6[min(g)]=income[1]\n",
    "        \n",
    "    p=min(dict6.items())\n",
    "    print(p[1])\n",
    "        \n",
    "        \n",
    "        \n",
    "\n",
    "FindLowestIncome(incomedf)"
   ]
  },
  {
   "cell_type": "code",
   "execution_count": 14,
   "metadata": {},
   "outputs": [
    {
     "name": "stdout",
     "output_type": "stream",
     "text": [
      "2\n",
      "1 3\n"
     ]
    },
    {
     "ename": "UnboundLocalError",
     "evalue": "local variable 'm' referenced before assignment",
     "output_type": "error",
     "traceback": [
      "\u001b[1;31m---------------------------------------------------------------------------\u001b[0m",
      "\u001b[1;31mUnboundLocalError\u001b[0m                         Traceback (most recent call last)",
      "\u001b[1;32m<ipython-input-14-49716dfa84d8>\u001b[0m in \u001b[0;36m<module>\u001b[1;34m\u001b[0m\n\u001b[0;32m     24\u001b[0m \u001b[1;32mfor\u001b[0m \u001b[0mtimes\u001b[0m \u001b[1;32min\u001b[0m \u001b[0mrange\u001b[0m\u001b[1;33m(\u001b[0m\u001b[0mn\u001b[0m\u001b[1;33m)\u001b[0m\u001b[1;33m:\u001b[0m\u001b[1;33m\u001b[0m\u001b[1;33m\u001b[0m\u001b[0m\n\u001b[0;32m     25\u001b[0m \u001b[1;33m\u001b[0m\u001b[0m\n\u001b[1;32m---> 26\u001b[1;33m     \u001b[0mAverageAllStates\u001b[0m\u001b[1;33m(\u001b[0m\u001b[0mincomedf\u001b[0m\u001b[1;33m,\u001b[0m\u001b[0mk\u001b[0m\u001b[1;33m[\u001b[0m\u001b[0mtimes\u001b[0m\u001b[1;33m]\u001b[0m\u001b[1;33m)\u001b[0m\u001b[1;33m\u001b[0m\u001b[1;33m\u001b[0m\u001b[0m\n\u001b[0m",
      "\u001b[1;32m<ipython-input-14-49716dfa84d8>\u001b[0m in \u001b[0;36mAverageAllStates\u001b[1;34m(df, key)\u001b[0m\n\u001b[0;32m     14\u001b[0m                 \u001b[0mli\u001b[0m\u001b[1;33m.\u001b[0m\u001b[0mappend\u001b[0m\u001b[1;33m(\u001b[0m\u001b[0mk\u001b[0m\u001b[1;33m)\u001b[0m\u001b[1;33m\u001b[0m\u001b[1;33m\u001b[0m\u001b[0m\n\u001b[0;32m     15\u001b[0m             \u001b[0mm\u001b[0m\u001b[1;33m=\u001b[0m\u001b[0msum\u001b[0m\u001b[1;33m(\u001b[0m\u001b[0mli\u001b[0m\u001b[1;33m)\u001b[0m\u001b[1;33m/\u001b[0m\u001b[0mlen\u001b[0m\u001b[1;33m(\u001b[0m\u001b[0mli\u001b[0m\u001b[1;33m)\u001b[0m\u001b[1;33m\u001b[0m\u001b[1;33m\u001b[0m\u001b[0m\n\u001b[1;32m---> 16\u001b[1;33m     \u001b[0ms\u001b[0m\u001b[1;33m=\u001b[0m\u001b[0ms\u001b[0m\u001b[1;33m+\u001b[0m\u001b[0mm\u001b[0m\u001b[1;33m\u001b[0m\u001b[1;33m\u001b[0m\u001b[0m\n\u001b[0m\u001b[0;32m     17\u001b[0m     \u001b[0mprint\u001b[0m\u001b[1;33m(\u001b[0m\u001b[1;34m\"sum\"\u001b[0m\u001b[1;33m,\u001b[0m\u001b[0ms\u001b[0m\u001b[1;33m)\u001b[0m\u001b[1;33m\u001b[0m\u001b[1;33m\u001b[0m\u001b[0m\n\u001b[0;32m     18\u001b[0m     \u001b[0mli2\u001b[0m\u001b[1;33m=\u001b[0m\u001b[0mli\u001b[0m\u001b[1;33m.\u001b[0m\u001b[0mappend\u001b[0m\u001b[1;33m(\u001b[0m\u001b[0ms\u001b[0m\u001b[1;33m)\u001b[0m\u001b[1;33m\u001b[0m\u001b[1;33m\u001b[0m\u001b[0m\n",
      "\u001b[1;31mUnboundLocalError\u001b[0m: local variable 'm' referenced before assignment"
     ]
    }
   ],
   "source": [
    "# Combined Average Income of all states from 2005 to 2013(Second model)\n",
    "\n",
    "incomedf=GetIncomeDataFromCSV(filepath)\n",
    "\n",
    "def AverageAllStates(df,key):\n",
    "    dat=df.values\n",
    "    li=[]\n",
    "    li2=[]\n",
    "    s=0\n",
    "    for i in dat:\n",
    "        if i[0]==key or i[1]==key:\n",
    "            for index in range(2,len(i)-1):\n",
    "                k=i[index]\n",
    "                li.append(k)\n",
    "            m=sum(li)/len(li)\n",
    "    s=s+m\n",
    "    print(\"sum\",s)\n",
    "    li2=li.append(s)\n",
    "    return (sum(li2))\n",
    "    \n",
    "            \n",
    "n=int(input())\n",
    "k=list(map(str,input().split()))\n",
    "for times in range(n):\n",
    "    \n",
    "    AverageAllStates(incomedf,k[times])"
   ]
  },
  {
   "cell_type": "code",
   "execution_count": null,
   "metadata": {},
   "outputs": [],
   "source": []
  }
 ],
 "metadata": {
  "kernelspec": {
   "display_name": "Python 3",
   "language": "python",
   "name": "python3"
  },
  "language_info": {
   "codemirror_mode": {
    "name": "ipython",
    "version": 3
   },
   "file_extension": ".py",
   "mimetype": "text/x-python",
   "name": "python",
   "nbconvert_exporter": "python",
   "pygments_lexer": "ipython3",
   "version": "3.7.3"
  }
 },
 "nbformat": 4,
 "nbformat_minor": 2
}
