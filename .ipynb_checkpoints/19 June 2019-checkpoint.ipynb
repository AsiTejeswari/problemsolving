{
 "cells": [
  {
   "cell_type": "code",
   "execution_count": 1,
   "metadata": {},
   "outputs": [
    {
     "name": "stdout",
     "output_type": "stream",
     "text": [
      "180\n",
      "3\n",
      "640 480\n",
      "CROP IT\n",
      "120 300\n",
      "UPLOAD ANOTHER\n",
      "180 180\n",
      "ACCEPTED\n"
     ]
    }
   ],
   "source": [
    "# profile picture\n",
    "l=int(input())\n",
    "n=int(input())\n",
    "x=[]\n",
    "for i in range(n):\n",
    "    x=list(map(int,input().split()))\n",
    "    w=int(x[0])\n",
    "    h=int(x[1])\n",
    "    if w<l or h<l:\n",
    "        print(\"UPLOAD ANOTHER\")\n",
    "    elif w==h:\n",
    "        print(\"ACCEPTED\")\n",
    "    else:\n",
    "        print(\"CROP IT\")"
   ]
  },
  {
   "cell_type": "code",
   "execution_count": 20,
   "metadata": {},
   "outputs": [
    {
     "name": "stdout",
     "output_type": "stream",
     "text": [
      "2\n",
      "4\n",
      "B\n",
      "5\n",
      "B\n"
     ]
    }
   ],
   "source": [
    "#lift problem\n",
    "A=0\n",
    "B=7\n",
    "t=int(input())\n",
    "for i in range(t):\n",
    "    N=int(input())\n",
    "    LA=abs(A-N)\n",
    "    LB=abs(B-N)\n",
    "\n",
    "    if(LA <= LB):\n",
    "        print(\"A\")\n",
    "        A=N\n",
    "    else:\n",
    "        print(\"B\")\n",
    "        B=N"
   ]
  },
  {
   "cell_type": "code",
   "execution_count": null,
   "metadata": {},
   "outputs": [],
   "source": []
  },
  {
   "cell_type": "code",
   "execution_count": 1,
   "metadata": {},
   "outputs": [
    {
     "name": "stdout",
     "output_type": "stream",
     "text": [
      "13X357-22\n",
      "valid\n"
     ]
    }
   ],
   "source": [
    "# ali and helping to innocent people\n",
    "s=input()\n",
    "c=2\n",
    "for i in range(0,len(s)-1):\n",
    "    if s[i].isdigit()==True and s[i+1].isdigit()==True:\n",
    "        if (int(s[i])+int(s[i+1]))%2!=0:\n",
    "            print(\"invalid\")\n",
    "            c=0\n",
    "            break\n",
    "    elif (s[i].isalpha()==True) and s[i]!=\"X\" and s[i]!=\"B\" :\n",
    "        if s[i]==\"A\" or \"E\" or \"I\" or \"O\" or \"U\" or \"a\" or \"e\" or \"i\" or \"o\" or \"u\":\n",
    "            print(\"invalid\")\n",
    "            c=0\n",
    "            break\n",
    "if(c!=0):\n",
    "    print(\"valid\")           "
   ]
  },
  {
   "cell_type": "code",
   "execution_count": 1,
   "metadata": {},
   "outputs": [
    {
     "name": "stdout",
     "output_type": "stream",
     "text": [
      "5\n",
      "1 2 3 4 5\n",
      "120\n"
     ]
    }
   ],
   "source": [
    "#fing product\n",
    "N = int(input())\n",
    "A = input()\n",
    "p = 1\n",
    "e = 1000000007\n",
    "A = A.split(\" \")\n",
    "for i in A:\n",
    "    p = (p * int(i))%e\n",
    "print(p)"
   ]
  },
  {
   "cell_type": "code",
   "execution_count": 4,
   "metadata": {},
   "outputs": [
    {
     "data": {
      "text/plain": [
       "3"
      ]
     },
     "execution_count": 4,
     "metadata": {},
     "output_type": "execute_result"
    }
   ],
   "source": [
    "import math\n",
    "math.floor(40/12)"
   ]
  },
  {
   "cell_type": "code",
   "execution_count": null,
   "metadata": {},
   "outputs": [],
   "source": [
    "\n"
   ]
  },
  {
   "cell_type": "code",
   "execution_count": 2,
   "metadata": {},
   "outputs": [
    {
     "name": "stdout",
     "output_type": "stream",
     "text": [
      "13\n",
      "Motu\n"
     ]
    }
   ],
   "source": [
    "#brick picking between motu and patlu\n",
    "data = int(input())\n",
    "sum=3\n",
    "flag=0\n",
    "\n",
    "while(True):\n",
    "    if(data>=sum):\n",
    "        data=data-sum\n",
    "    else:\n",
    "        if(flag<=data):\n",
    "            print(\"Motu\")\n",
    "            break\n",
    "        else:\n",
    "            print(\"Patlu\")\n",
    "            break\n",
    "    sum=sum+3\n",
    "    flag=flag+1\n"
   ]
  },
  {
   "cell_type": "code",
   "execution_count": 3,
   "metadata": {},
   "outputs": [
    {
     "name": "stdout",
     "output_type": "stream",
     "text": [
      "3\n",
      "3 2\n",
      "5 2\n",
      "1 2\n",
      "3\n"
     ]
    }
   ],
   "source": [
    "#aman and mr.sharma\n",
    "t=int(input())\n",
    "cnt=0\n",
    "while(t>0):\n",
    "    t-=1\n",
    "    r,x=map(int,input().split())\n",
    "    dis=100*x\n",
    "    par=2*22/7*r\n",
    "    if(dis>=par):\n",
    "        cnt+=1\n",
    "print(cnt)"
   ]
  },
  {
   "cell_type": "code",
   "execution_count": 4,
   "metadata": {},
   "outputs": [
    {
     "name": "stdout",
     "output_type": "stream",
     "text": [
      "5\n",
      "100\n",
      "110\n",
      "YES\n",
      "130\n",
      "YES\n",
      "90\n",
      "NO\n",
      "100\n",
      "YES\n",
      "45\n",
      "NO\n"
     ]
    }
   ],
   "source": [
    "#goki and his breakup\n",
    "n=int(input())\n",
    "x=int(input())\n",
    "for i in range(n):\n",
    "    y=int(input())\n",
    "    if y>=x:\n",
    "        print(\"YES\")\n",
    "    else:\n",
    "        print(\"NO\")\n",
    "        n=n-1\n",
    "    "
   ]
  },
  {
   "cell_type": "code",
   "execution_count": 5,
   "metadata": {},
   "outputs": [
    {
     "name": "stdout",
     "output_type": "stream",
     "text": [
      "1\n",
      "1\n",
      "2\n",
      "2\n",
      "88\n",
      "88\n",
      "42\n"
     ]
    }
   ],
   "source": [
    "#life,universe and everything\n",
    "while(True):\n",
    "    x = int(input())\n",
    "    if x!=42:\n",
    "        print(x)\n",
    "    else:\n",
    "        break"
   ]
  },
  {
   "cell_type": "code",
   "execution_count": null,
   "metadata": {},
   "outputs": [],
   "source": []
  }
 ],
 "metadata": {
  "kernelspec": {
   "display_name": "Python 3",
   "language": "python",
   "name": "python3"
  },
  "language_info": {
   "codemirror_mode": {
    "name": "ipython",
    "version": 3
   },
   "file_extension": ".py",
   "mimetype": "text/x-python",
   "name": "python",
   "nbconvert_exporter": "python",
   "pygments_lexer": "ipython3",
   "version": "3.7.3"
  }
 },
 "nbformat": 4,
 "nbformat_minor": 2
}
