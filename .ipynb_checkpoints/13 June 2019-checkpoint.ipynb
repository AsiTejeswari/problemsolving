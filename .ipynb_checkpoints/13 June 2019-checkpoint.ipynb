{
 "cells": [
  {
   "cell_type": "code",
   "execution_count": null,
   "metadata": {},
   "outputs": [],
   "source": [
    "# calculate the no of hours for a given time period\n",
    "def noofdays(startyear,endyear):\n",
    "    sum=0\n",
    "    for year in range(startyear,endyear+1):\n",
    "        if isleapyear(year):\n",
    "            sum+=366\n",
    "        else:\n",
    "            sum+=365\n",
    "   \n",
    "    return sum\n",
    "#noofdays(2018,2019)\n",
    "\n",
    "def numberofdaysmonth(month,year):\n",
    "    if month ==2:\n",
    "        if isleapyear(year):\n",
    "            return 29\n",
    "        return 28\n",
    "    elif (month<=7 and month %2!=0) or (month >=8 and month%2==0):\n",
    "        return 31\n",
    "    else:\n",
    "        return 30\n",
    "#numberofdaysmonth(6,2019)\n",
    "def daysinstartyear(startmonth,startyear):\n",
    "    days=0\n",
    "    for month in range(startmonth,13):\n",
    "        days += numberofdaysmonth(month,startyear)\n",
    "    return days\n",
    "#daysinstartyear(6,2019)\n",
    "def daysinendyear(endmonth,endyear):\n",
    "    days=0\n",
    "    for month in range(1,endmonth+1):\n",
    "        days+=numberofdaysmonth(month,endyear)\n",
    "    return days\n",
    "#daysinendyear(6,2019)\n",
    "def numberofhours(startmonth,startyear,endmonth,endyear):\n",
    "    days=0\n",
    "    if startyear!=endyear:\n",
    "        days=0\n",
    "        days+=daysinstartyear(startmonth,startyear)\n",
    "        days+=daysinendyear(endmonth,endyear)\n",
    "        if endyear-startyear==2:\n",
    "            days+=noofdays(l+1,l+1)\n",
    "        elif endyear-startyear > 2:\n",
    "            days+=noofdays(startyear+1,endyear-1)\n",
    "    else:\n",
    "        for month in range(startmonth,endmonth+1):\n",
    "            days+=numberofdaysmonth(month,startyear)\n",
    "    return 24*days\n",
    "\n",
    "numberofhours(6,2018,7,2018)"
   ]
  },
  {
   "cell_type": "code",
   "execution_count": null,
   "metadata": {},
   "outputs": [],
   "source": [
    "# factorial avg\n",
    "def factavg(l,u):\n",
    "    fact=1\n",
    "    sum=0\n",
    "    for i in range(l,u):\n",
    "        fact=fact*i\n",
    "        sum=sum+fact\n",
    "        print (sum)\n",
    "    return sum/(u-l)\n",
    "factavg(1,4)\n",
    "    "
   ]
  },
  {
   "cell_type": "code",
   "execution_count": null,
   "metadata": {},
   "outputs": [],
   "source": [
    "# alternate values \n",
    "def alternatevalues(start,end):\n",
    "    for i in range(start,end+1,2):\n",
    "        print(i)\n",
    "    return\n",
    "alternatevalues(10,20)"
   ]
  },
  {
   "cell_type": "code",
   "execution_count": null,
   "metadata": {},
   "outputs": [],
   "source": [
    "# function to print reverse of given range \n",
    "def reverse(start,end):\n",
    "    for i in range(end,start,-2):\n",
    "        print(i)\n",
    "    return\n",
    "reverse(10,25)"
   ]
  },
  {
   "cell_type": "code",
   "execution_count": 10,
   "metadata": {},
   "outputs": [],
   "source": [
    "# odd armstrong  no in a given range\n",
    "\n",
    "def armstrong(n):\n",
    "    z=0\n",
    "    x=len(str(n))\n",
    "    for i in range(1,n+1):\n",
    "        if n%10!=0:\n",
    "            z+=(n%10)**x\n",
    "            return \n",
    "    if z==n:\n",
    "        return armstrong\n",
    "    else:\n",
    "        return \n",
    "    return\n",
    " \n",
    "armstrong(153)\n",
    "   \n",
    "            \n",
    "            \n",
    "            \n",
    "        \n",
    "        \n",
    "    \n",
    "\n",
    "\n"
   ]
  },
  {
   "cell_type": "code",
   "execution_count": null,
   "metadata": {},
   "outputs": [],
   "source": [
    "# printing tables\n",
    "\n"
   ]
  }
 ],
 "metadata": {
  "kernelspec": {
   "display_name": "Python 3",
   "language": "python",
   "name": "python3"
  },
  "language_info": {
   "codemirror_mode": {
    "name": "ipython",
    "version": 3
   },
   "file_extension": ".py",
   "mimetype": "text/x-python",
   "name": "python",
   "nbconvert_exporter": "python",
   "pygments_lexer": "ipython3",
   "version": "3.7.3"
  }
 },
 "nbformat": 4,
 "nbformat_minor": 2
}
