{
 "cells": [
  {
   "cell_type": "code",
   "execution_count": null,
   "metadata": {},
   "outputs": [],
   "source": []
  },
  {
   "cell_type": "code",
   "execution_count": null,
   "metadata": {},
   "outputs": [],
   "source": []
  },
  {
   "cell_type": "code",
   "execution_count": null,
   "metadata": {},
   "outputs": [],
   "source": []
  },
  {
   "cell_type": "markdown",
   "metadata": {},
   "source": [
    "###  Python Data Structures"
   ]
  },
  {
   "cell_type": "markdown",
   "metadata": {},
   "source": [
    "#### Lists"
   ]
  },
  {
   "cell_type": "code",
   "execution_count": null,
   "metadata": {},
   "outputs": [],
   "source": [
    "li=[123,456,789]\n",
    "\n",
    "li           # to acess the entire list\n",
    "li[1]        # to access an element with index in a list\n",
    "li[1:]       # to access from second  to the end element with index in a list\n",
    "li[::-1]     # to access the list in the reverse order\n",
    "li=li[::-1]  # reasiigning original list\n",
    "li=li[::-1]\n",
    "\n",
    "li[::2]      # evern index elements\n",
    "li[1::2]     # odd index elements\n",
    "\n",
    "\n",
    "# lists can be accessed,manipulated  in two different ways\n",
    "       # direct referencing  --[index]\n",
    "       # indirece referencing   --through functions\n",
    "\n",
    "li.append(234)  # adding an element to end of the list\n",
    "li.insert(1,345)  # adding an element at a particular index\n",
    "li.sort()    # sorting of elements in accending order\n",
    "li.pop()     #remove the last element in a list\n",
    "li.pop(2)    # remove an element at a particular index\n",
    "li2 = [321,654,987]\n",
    "li.extend(li2)   # merge list 2 in to list 1\n",
    "s=sum(li)          # sum of elements in the list\n",
    "max(li)          # max of list\n",
    "len(li)          # length of the list\n",
    "avg=sum(li)/len(li) # avg of list element\n",
    "l=li[::2]\n",
    "sum(l)/len(l)     # avg of elements of a list in even positions"
   ]
  },
  {
   "cell_type": "code",
   "execution_count": null,
   "metadata": {},
   "outputs": [],
   "source": [
    "#function to identify the second largest element for unique list\n",
    "def secondlargest(li):\n",
    "    li.sort()\n",
    "    return (li[-2])\n",
    "#secondlargest([1,9,3,2,5])\n",
    "def genericlargest(li,n):\n",
    "    secondlargest(li)\n",
    "    print(li)\n",
    "    print(li[-n])\n",
    "    return\n",
    "genericlargest([1,9,3,2,5,8],4)\n",
    "   "
   ]
  },
  {
   "cell_type": "code",
   "execution_count": null,
   "metadata": {},
   "outputs": [],
   "source": [
    "# search for data in a list\n",
    "def linearsearch(li,key):\n",
    "    x=len(li)\n",
    "    for i in range(0,x):\n",
    "        if li[i]==key:\n",
    "            return i\n",
    "    return -1\n",
    "linearsearch([1,2,3,4,5],5)\n",
    "def linearsearch2(li,key):\n",
    "    for element in li:\n",
    "        if element ==key:\n",
    "            return li.index(element)\n",
    "    return -1\n",
    "linearsearch2([1,2,3,4,5],3)\n",
    "def linearsearch3(li,key):\n",
    "    return li.index(key)\n",
    "linearsearch3([1,2,3,4,5],2)\n",
    "            "
   ]
  },
  {
   "cell_type": "code",
   "execution_count": null,
   "metadata": {},
   "outputs": [],
   "source": [
    "# function to count the occurances of a charecter in a string\n",
    "# \"python programming\", m -->2\n",
    "def count(str,key):\n",
    "    c=0\n",
    "    for i in str:\n",
    "        if i==key:\n",
    "            c=c+1\n",
    "    return c\n",
    "def count(str,key):d\n",
    "    return str.count(key)\n",
    "    \n",
    "count(\"python programming python\",\"py\")"
   ]
  },
  {
   "cell_type": "code",
   "execution_count": null,
   "metadata": {},
   "outputs": [],
   "source": [
    "# function to find the number of occurances of a string\n",
    "        # \"pythonprogrammingpython\",   \"py\" --2\n",
    "def substringcount(str,sub):\n",
    "    len(str)\n",
    "    len(sub)\n",
    "    "
   ]
  },
  {
   "cell_type": "code",
   "execution_count": null,
   "metadata": {},
   "outputs": [],
   "source": [
    "s=\"1 2 3 4 5 6\"\n",
    "li=s.split()\n",
    "numberlist=[]\n",
    "for i in li:\n",
    "    numberlist.append(int(i))\n",
    "numberlist"
   ]
  },
  {
   "cell_type": "code",
   "execution_count": null,
   "metadata": {},
   "outputs": [],
   "source": [
    "def find(a,b,c):\n",
    "    x=0\n",
    "    if c>=a and c>=b:\n",
    "        for c in range(1,c+1):\n",
    "            x=c%a\n",
    "            if x==b:\n",
    "                print(c)\n",
    "            \n",
    "        return -1\n",
    "find(3,2,9)\n",
    "        "
   ]
  },
  {
   "cell_type": "code",
   "execution_count": null,
   "metadata": {},
   "outputs": [],
   "source": [
    "n=int(input())\n",
    "def sqsum(n):\n",
    "    sum=0\n",
    "    for i in range(1,n+1):\n",
    "        sum+=i**2\n",
    "    return sum\n",
    "sqsum(n)\n"
   ]
  },
  {
   "cell_type": "code",
   "execution_count": null,
   "metadata": {},
   "outputs": [],
   "source": [
    "\n",
    "\n",
    "# test 2\n",
    "n=int(input())\n",
    "s=input()\n",
    "li=[]\n",
    "for i in s.split():\n",
    "    li.append(int(i))\n",
    "def closestzero(li):\n",
    "    nl=[]\n",
    "    for i in li:\n",
    "        if i<0:\n",
    "            nl.append(i)\n",
    "    pl=[]\n",
    "    for i in li:\n",
    "        if i>=0:\n",
    "            pl.append(i)\n",
    "    if len(nl)>0:\n",
    "        nc=max(nl)\n",
    "    if len(pl)>0:\n",
    "        pc=min(pl)\n",
    "    if pc==0:\n",
    "        return 0\n",
    "        \n",
    "    elif abs(nc)==pc:\n",
    "        return pc\n",
    "    elif abs(nc)<pc:\n",
    "        return abs(nc)\n",
    "    else:\n",
    "        return pc\n",
    "closestzero(li)\n",
    "    \n",
    "   \n",
    "    \n",
    "\n"
   ]
  },
  {
   "cell_type": "code",
   "execution_count": null,
   "metadata": {},
   "outputs": [],
   "source": [
    "n=int(input())\n",
    "s=input()\n",
    "li=[]\n",
    "for i in s.split():\n",
    "    li.append(abs(int(i)))\n",
    "min(li)"
   ]
  },
  {
   "cell_type": "code",
   "execution_count": null,
   "metadata": {},
   "outputs": [],
   "source": [
    "#test 2\n",
    "n=int(input())\n",
    "s=input()\n",
    "s=s.split()\n",
    "li=[]\n",
    "for i in s:\n",
    "    li.append(int(i))\n",
    "\n",
    "    \n",
    "    \n",
    "def closestzero(li):\n",
    "    if 0 in li:\n",
    "        return 0\n",
    "    else:\n",
    "        li.sort()\n",
    "        pc=[]\n",
    "        nc=[]\n",
    "        for i in li:\n",
    "            if i>0:\n",
    "                pc.append(i)\n",
    "        for i in li:\n",
    "            if i<0:\n",
    "                nc.append(i)\n",
    "        if len(nc)==0:\n",
    "            return min(pc)\n",
    "        elif len(pc)==0:\n",
    "            return max(nc)\n",
    "        else:\n",
    "            nz=max(nc)\n",
    "            pz=min(pc)\n",
    "            if abs(nz)>pc or abs(nz)==pz:\n",
    "                return pz\n",
    "            else:\n",
    "                return rz\n",
    "closestzero(li)"
   ]
  },
  {
   "cell_type": "code",
   "execution_count": null,
   "metadata": {},
   "outputs": [],
   "source": []
  }
 ],
 "metadata": {
  "kernelspec": {
   "display_name": "Python 3",
   "language": "python",
   "name": "python3"
  },
  "language_info": {
   "codemirror_mode": {
    "name": "ipython",
    "version": 3
   },
   "file_extension": ".py",
   "mimetype": "text/x-python",
   "name": "python",
   "nbconvert_exporter": "python",
   "pygments_lexer": "ipython3",
   "version": "3.7.3"
  }
 },
 "nbformat": 4,
 "nbformat_minor": 2
}
