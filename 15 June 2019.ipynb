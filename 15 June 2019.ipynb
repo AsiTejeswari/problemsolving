{
 "cells": [
  {
   "cell_type": "markdown",
   "metadata": {},
   "source": [
    "### problem-3\n",
    "you are given three number a,b,c.\n",
    "write a program to find the largest number\n",
    "which is less than or equal to c and leave a reminder b when divided by a."
   ]
  },
  {
   "cell_type": "code",
   "execution_count": 10,
   "metadata": {},
   "outputs": [
    {
     "name": "stdout",
     "output_type": "stream",
     "text": [
      "8\n"
     ]
    },
    {
     "data": {
      "text/plain": [
       "-1"
      ]
     },
     "execution_count": 10,
     "metadata": {},
     "output_type": "execute_result"
    }
   ],
   "source": [
    "def find(a,b,c):\n",
    "    x=0\n",
    "    if c>=a and c>=b:\n",
    "        for c in range(c,0,-1):\n",
    "            x=c%a\n",
    "            if x==b:\n",
    "                print(c)\n",
    "                break\n",
    "            \n",
    "        return -1\n",
    "find(3,2,9)\n",
    "def cal(a,b,c):\n",
    "    for i in range(c,a-1,-1):\n",
    "        if i%a==b:\n",
    "            return 1\n",
    "    return -1\n",
    "cal(1,2,4)\n",
    "\n",
    "        "
   ]
  },
  {
   "cell_type": "code",
   "execution_count": 11,
   "metadata": {},
   "outputs": [
    {
     "name": "stdout",
     "output_type": "stream",
     "text": [
      "-1\n"
     ]
    }
   ],
   "source": [
    "# Task 2\n",
    "li=[-1,-2,3,8]\n",
    "li.sort()\n",
    "pl=[]\n",
    "for i in li:\n",
    "    pl.append(abs(i))\n",
    "pl.sort()\n",
    "if -pl[0] in li:\n",
    "    print(-pl[0])\n",
    "else:\n",
    "    print(pl[0])\n",
    "    \n",
    "    "
   ]
  },
  {
   "cell_type": "code",
   "execution_count": 12,
   "metadata": {},
   "outputs": [
    {
     "name": "stdout",
     "output_type": "stream",
     "text": [
      "7\n"
     ]
    },
    {
     "data": {
      "text/plain": [
       "140"
      ]
     },
     "execution_count": 12,
     "metadata": {},
     "output_type": "execute_result"
    }
   ],
   "source": [
    "n=int(input())\n",
    "def sqsum(n):\n",
    "    sum=0\n",
    "    for i in range(1,n+1):\n",
    "        sum+=i**2\n",
    "    return sum\n",
    "sqsum(n)"
   ]
  },
  {
   "cell_type": "code",
   "execution_count": 8,
   "metadata": {},
   "outputs": [
    {
     "name": "stdout",
     "output_type": "stream",
     "text": [
      " asdf\n",
      "30\n"
     ]
    }
   ],
   "source": [
    "# char sum\n",
    "s=input(\" \")\n",
    "def alpha(s):\n",
    "    sum=0\n",
    "    for i in range(0,len(s)):\n",
    "        if s[i]>=chr(97) and s[i]<=chr(122):\n",
    "            sum=sum+(ord(s[i])-96)\n",
    "    print(sum)\n",
    "alpha(s)"
   ]
  },
  {
   "cell_type": "code",
   "execution_count": 1,
   "metadata": {},
   "outputs": [
    {
     "name": "stdout",
     "output_type": "stream",
     "text": [
      "7\n",
      "2 3 5 7 "
     ]
    }
   ],
   "source": [
    "#prime no\n",
    "n=int(input())\n",
    "def prime(n):\n",
    "    c=0\n",
    "    for i in range(1,n+1):\n",
    "        if n%i==0:\n",
    "            c+=1\n",
    "    if c==2:\n",
    "        return True\n",
    "    else:\n",
    "        return False\n",
    "    return\n",
    "        \n",
    "def nprime(n):\n",
    "    for j in range(1,n+1):\n",
    "        if prime(j):\n",
    "            print(j,end=\" \")\n",
    "    return\n",
    "nprime(n)\n",
    "        \n"
   ]
  },
  {
   "cell_type": "code",
   "execution_count": 2,
   "metadata": {},
   "outputs": [
    {
     "name": "stdout",
     "output_type": "stream",
     "text": [
      " madam\n",
      "YES\n"
     ]
    }
   ],
   "source": [
    "#polindromic string\n",
    "s=input(' ')\n",
    "y=s[::-1]\n",
    "if y==s:\n",
    "    print (\"YES\")\n",
    "else:\n",
    "    print (\"NO\")\n"
   ]
  },
  {
   "cell_type": "code",
   "execution_count": 4,
   "metadata": {},
   "outputs": [
    {
     "name": "stdout",
     "output_type": "stream",
     "text": [
      "1 10 1\n",
      "10\n"
     ]
    }
   ],
   "source": [
    "# count divisors\n",
    "def countdevisers(l,r,k):\n",
    "    count=0\n",
    "    for i in range(l,r+1):\n",
    "       if i%k==0:\n",
    "           count+=1\n",
    "    print (count)\n",
    "    return\n",
    "\n",
    "s=input()\n",
    "s=s.split()\n",
    "\n",
    "l=int(s[0])\n",
    "r=int(s[1])\n",
    "k=int(s[2])\n",
    "countdevisers(l,r,k)\n",
    "\n",
    "           "
   ]
  },
  {
   "cell_type": "code",
   "execution_count": 5,
   "metadata": {},
   "outputs": [
    {
     "name": "stdout",
     "output_type": "stream",
     "text": [
      "5\n",
      "120\n"
     ]
    }
   ],
   "source": [
    "#factorial\n",
    "def factorial(n):\n",
    "    fact=1\n",
    "    for i in range(1,n+1):\n",
    "        fact=fact*i\n",
    "    print (fact)\n",
    "    return \n",
    "n=int(input())\n",
    "factorial(n)"
   ]
  },
  {
   "cell_type": "code",
   "execution_count": 7,
   "metadata": {},
   "outputs": [
    {
     "name": "stdout",
     "output_type": "stream",
     "text": [
      "1\n",
      "1 44 2 14\n",
      "0 30\n"
     ]
    }
   ],
   "source": [
    "# duration\n",
    "def duration(sh, sm, eh, em):\n",
    "    start=(sh*60)+sm\n",
    "    end=(eh*60)+em\n",
    "    x=abs(end-start)\n",
    "    if x<60:\n",
    "        print(0,end=\" \")\n",
    "        print(x)\n",
    "    elif x>=60:\n",
    "        hours=x//60\n",
    "        minutes=x%60\n",
    "        print(abs(hours),end=\" \")\n",
    "        print(minutes)\n",
    "n=int(input())\n",
    "for t in range(0,n):\n",
    "    sh,sm,eh,em=input().split()\n",
    "    duration(int(sh), int(sm), int(eh),int(em))\n",
    "\n",
    "\n",
    "\n",
    "\n",
    "    "
   ]
  },
  {
   "cell_type": "code",
   "execution_count": null,
   "metadata": {},
   "outputs": [],
   "source": []
  }
 ],
 "metadata": {
  "kernelspec": {
   "display_name": "Python 3",
   "language": "python",
   "name": "python3"
  },
  "language_info": {
   "codemirror_mode": {
    "name": "ipython",
    "version": 3
   },
   "file_extension": ".py",
   "mimetype": "text/x-python",
   "name": "python",
   "nbconvert_exporter": "python",
   "pygments_lexer": "ipython3",
   "version": "3.7.3"
  }
 },
 "nbformat": 4,
 "nbformat_minor": 2
}
