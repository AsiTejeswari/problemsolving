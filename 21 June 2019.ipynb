{
 "cells": [
  {
   "cell_type": "code",
   "execution_count": 26,
   "metadata": {},
   "outputs": [
    {
     "name": "stdout",
     "output_type": "stream",
     "text": [
      "Tej already exists\n"
     ]
    }
   ],
   "source": [
    "#function to add contact to contacts file \n",
    "\n",
    "from Packages.validator import  phonenumbervalidator as pnv\n",
    "from Packages.validator import  emailvalidator as ev\n",
    "\n",
    "def addcontact(name,phone,email):\n",
    "    # store data as name,phone,email in the contacts file\n",
    "    \n",
    "    filename='DataFiles/contacts.txt'\n",
    "    if not checkcontact(name):\n",
    "        if pnv(phone) and ev(email):\n",
    "            with open(filename, 'a') as f:\n",
    "                line=name+','+str(phone)+','+email+ '\\n' \n",
    "                f.write(line)\n",
    "            print(name,'added to contacts')\n",
    "        else:\n",
    "            print('Invalid phone number or email')\n",
    "            return\n",
    "    else:\n",
    "        print(name, 'already exists')\n",
    "        return\n",
    "\n",
    "import re\n",
    "#function to check if contact already exists\n",
    "def checkcontact(name):\n",
    "    filename='DataFiles/contacts.txt'\n",
    "    with open(filename,'r') as f:\n",
    "        filedata=f.read()\n",
    "        pattern=name+','\n",
    "    return re.search(pattern, filedata)\n",
    "\n",
    "    if checkcontact(\"Tej,\"):\n",
    "        print(True)\n",
    "    else:\n",
    "        print(False)\n",
    "        \n",
    "addcontact(\"Tej\",7093367733,\"Tejareddyasi987@gmail.com\")\n",
    "\n",
    "    "
   ]
  },
  {
   "cell_type": "code",
   "execution_count": 27,
   "metadata": {},
   "outputs": [
    {
     "data": {
      "text/plain": [
       "'Tej,7093367733,Tejareddyasi987@gmail.com\\nTej,7093367733,Tejareddyasi987@gmail.com\\n9704333740,priya987@gmail.com\\n9704333740,priya987@gmail.com\\n'"
      ]
     },
     "execution_count": 27,
     "metadata": {},
     "output_type": "execute_result"
    }
   ],
   "source": [
    "filename='DataFiles/contacts.txt'\n",
    "def csvToList(filename):\n",
    "    li=[]\n",
    "    with open(filename,'r') as f:\n",
    "        for line in f:\n",
    "            li.append(line.split(','))\n",
    "    return li\n",
    "#csvToList(filename)\n",
    "def listtofile(li):\n",
    "    s=''\n",
    "    for i in li:\n",
    "        s +=','.join(i)\n",
    "    return s\n",
    "\n",
    "        \n",
    "li=csvToList(filename)\n",
    "listtofile(li)\n",
    "            "
   ]
  },
  {
   "cell_type": "code",
   "execution_count": 6,
   "metadata": {},
   "outputs": [
    {
     "name": "stdout",
     "output_type": "stream",
     "text": [
      "2\n",
      "18\n",
      "19 WS\n",
      "40\n",
      "45 AS\n"
     ]
    }
   ],
   "source": [
    "# seating arrangment\n",
    "for i in range(int(input())):\n",
    "    n=int(input())\n",
    "    y=n%12\n",
    "    if y==0:\n",
    "        n=n-11\n",
    "    elif y<7:\n",
    "        n=n+(2*(6-y)+1)\n",
    "    else:\n",
    "        n=n+(2*(y-7)+1)\n",
    "    x=n%6\n",
    "    if x==0 or x==1:\n",
    "        print(n,'WS')\n",
    "    elif x==2 or x==5:\n",
    "        print(n,'MS')\n",
    "    else:\n",
    "        print(n,'AS')\n",
    "       "
   ]
  },
  {
   "cell_type": "code",
   "execution_count": 22,
   "metadata": {},
   "outputs": [
    {
     "name": "stdout",
     "output_type": "stream",
     "text": [
      "Tej contact found\n"
     ]
    }
   ],
   "source": [
    "# function to search for contacts\n",
    "\n",
    "\n",
    "def searchforcontact(name):\n",
    "    filename='DataFiles/contacts.txt'\n",
    "    with open(filename,'r') as f:\n",
    "        filedata=f.read()\n",
    "        if name in filedata:\n",
    "            print(name,\"contact found\")\n",
    "            \n",
    "            \n",
    "        else:\n",
    "            print('not found')\n",
    "        \n",
    "searchforcontact('Tej')"
   ]
  },
  {
   "cell_type": "code",
   "execution_count": 30,
   "metadata": {},
   "outputs": [
    {
     "name": "stdout",
     "output_type": "stream",
     "text": [
      "Tej modified\n"
     ]
    }
   ],
   "source": [
    "def modifycontact(name,phone,email):\n",
    "    filename='DataFiles/contacts.txt'\n",
    "    with open(filename,'r') as f:\n",
    "        filedata=f.read()\n",
    "        if name in filedata:\n",
    "            if pnv(phone) and ev(email):\n",
    "                with open(filename, 'a') as f:\n",
    "                    line=str(phone)+','+email+ '\\n' \n",
    "                    f.write(line)\n",
    "                    print(name,\"modified\")\n",
    "        else:\n",
    "            print(name,\"not modified\")\n",
    "modifycontact('Tej',9704333740,'priya987@gmail.com')\n",
    "            \n",
    "        "
   ]
  },
  {
   "cell_type": "code",
   "execution_count": null,
   "metadata": {},
   "outputs": [],
   "source": []
  },
  {
   "cell_type": "code",
   "execution_count": null,
   "metadata": {},
   "outputs": [],
   "source": [
    "# cipher\n",
    "x=input()\n",
    "key=int(input())\n",
    "y=list(x)\n",
    "s=\"\"\n",
    "for i in range(0,len(y)):\n",
    "    if y[i].isdigit():\n",
    "        s+=((y[i]+key)%10)\n",
    "    elif y[i].isalpha():\n",
    "        if ord('y[i]')>=65 or ord('y[i]')<=90:\n",
    "            s+=(chr(ord('i')+key))\n",
    "        elif ord('y[i]')>=97 or ord('y[i]')<=122:\n",
    "            s+=(chr(ord(y[i])+key))\n",
    "        else:\n",
    "            s+=y[i]\n",
    "    \n",
    "print(s)\n"
   ]
  },
  {
   "cell_type": "code",
   "execution_count": null,
   "metadata": {},
   "outputs": [],
   "source": []
  },
  {
   "cell_type": "code",
   "execution_count": null,
   "metadata": {},
   "outputs": [],
   "source": []
  },
  {
   "cell_type": "code",
   "execution_count": null,
   "metadata": {},
   "outputs": [],
   "source": []
  }
 ],
 "metadata": {
  "kernelspec": {
   "display_name": "Python 3",
   "language": "python",
   "name": "python3"
  },
  "language_info": {
   "codemirror_mode": {
    "name": "ipython",
    "version": 3
   },
   "file_extension": ".py",
   "mimetype": "text/x-python",
   "name": "python",
   "nbconvert_exporter": "python",
   "pygments_lexer": "ipython3",
   "version": "3.7.3"
  }
 },
 "nbformat": 4,
 "nbformat_minor": 2
}
